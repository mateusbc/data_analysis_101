{
  "nbformat": 4,
  "nbformat_minor": 0,
  "metadata": {
    "colab": {
      "name": "craft_beer_analysis",
      "provenance": [],
      "collapsed_sections": [],
      "authorship_tag": "ABX9TyOFNT8hsaZ00Hp4schbGCI+"
    },
    "kernelspec": {
      "name": "python3",
      "display_name": "Python 3"
    }
  },
  "cells": [
    {
      "cell_type": "markdown",
      "metadata": {
        "id": "KPQ-8pQwNcuI",
        "colab_type": "text"
      },
      "source": [
        "#**Craft Beer Analysis**"
      ]
    },
    {
      "cell_type": "markdown",
      "metadata": {
        "id": "H4G3msxoXgX5",
        "colab_type": "text"
      },
      "source": [
        "This analysis will be based on a dataset from [Kaggle](https://www.kaggle.com/nickhould/craft-cans). The files contain information of canned beers crafted by USA breweries. The data is from January 2017 from [CraftCans.com](http://web.archive.org/web/20140710173430/http://www.craftcans.com/db.php). The study will be carried using SQL and Python to understand and plot the data from both tables."
      ]
    },
    {
      "cell_type": "markdown",
      "metadata": {
        "id": "b3HnjgMdZG69",
        "colab_type": "text"
      },
      "source": [
        "![alt text](https://www.arcgis.com/sharing/rest/content/items/cbe2b3319349402c8ea1e11ebeff1185/resources/1578316937202.jpeg?w=3117)"
      ]
    },
    {
      "cell_type": "markdown",
      "metadata": {
        "id": "1OmBwzH6Yh3i",
        "colab_type": "text"
      },
      "source": [
        "##**Introduction**"
      ]
    },
    {
      "cell_type": "markdown",
      "metadata": {
        "id": "UlpLm-XZNmG4",
        "colab_type": "text"
      },
      "source": [
        "The craft beer market started to grown during the 1980's in the USA and it became more popular on the last decade, now reaching the whole globe. \n",
        "\n",
        "According to [Brewers Association](https://www.brewersassociation.org/statistics-and-data/national-beer-stats/), the market share of craft breweries reached 13.6% of US market. The retail market of craft beers has a value of US$ 29.3 billion in 2019. There are more than 8000 craft breweries in the US.\n",
        "\n",
        "A craft brewery or microbrewery produces beer in smaller amounts than large company-owned brands. Craft beer usually focus on flavor, quality and technique. The proccess are based on traditional and handcrafted brewing from Europe. \n",
        "\n",
        "Beer are usually divided into three main types, lambics, ales and lagers. The difference depends on the fermentation proccess. Lambic beers have spontaneous fermentation. Ales usually use top-fermenting yeasts and ferment on higher temperatures (15.5-24.0°C/60-75°F) than lagers, which use bottom-fermenting yeasts at the temperatures around 10°C/50°F. There are four main schools of brewing: German, Belgian, British and American.\n",
        "\n",
        "The German style usually produces larger beers and it is famous for the purity law of 1516. It requires only barley, hops and water in the production. Nowadays yeasts are also largelly used and other ingredients are used depending on the style and region (Kölsh, Rauch, Berliner, Munich Helles).\n",
        "\n",
        "The Belgian school is famous for its strong and innovative beers, which uses spices and different fermentation techniques. Most famous styles are lambic, strong ale, witbier and trappist. The later are produced on Trappist monasteries and date back to 1830's.\n",
        "\n",
        "The British beers are famous for their tradition and focus on the barley flavor. Most of the crafted beers are ales, such as pale ale, IPA, porter, stout and special bitter.\n",
        "\n",
        "The American styles have roots in English beers, although it tends to use more hops, which give more aroma and bitternes (IBU), and they have increased value of alcohol by volume (ABV). Most famous types are american pale ale, New England IPA and american lager."
      ]
    },
    {
      "cell_type": "markdown",
      "metadata": {
        "id": "-d_K2IwbYl59",
        "colab_type": "text"
      },
      "source": [
        "##**EDA**"
      ]
    },
    {
      "cell_type": "markdown",
      "metadata": {
        "id": "pmYV9JthXepx",
        "colab_type": "text"
      },
      "source": [
        "The analysis will be caried on SQL language for the queries, graphs and tables will be plotted in Python. \n",
        "\n",
        "It is necessary to create the tables and import them to MySQL workbench. There are two tables, *beers* and *breweries*. The SQL analysis is executed on MySQL workbench and the results are copied to this notebook."
      ]
    },
    {
      "cell_type": "markdown",
      "metadata": {
        "id": "ScbsVN5qfdx8",
        "colab_type": "text"
      },
      "source": [
        "###What are the columns in each table?\n",
        "\n",
        "\n"
      ]
    },
    {
      "cell_type": "markdown",
      "metadata": {
        "id": "5PqfQpGBjnXO",
        "colab_type": "text"
      },
      "source": [
        "The dataset were imported into MySQL workbench and the primary key columns were renamed and a column with the foreign key *breweries_id* was added to the *beers* table.\n",
        "\n",
        "---\n",
        "```\n",
        "ALTER TABLE beers\n",
        "RENAME COLUMN MyUnknownColumn TO entry;\n",
        "\n",
        "ALTER TABLE beers\n",
        "ADD PRIMARY KEY (entry);\n",
        "\n",
        "ALTER TABLE beers\n",
        "ADD FOREIGN KEY (brewery_id)\n",
        "  REFERENCES breweries(brewery_id);\n",
        "```\n",
        "---\n",
        "```\n",
        "ALTER TABLE breweries\n",
        "RENAME COLUMN id TO brewery_id;\n",
        "\n",
        "ALTER TABLE breweries\n",
        "ADD PRIMARY KEY (brewery_id);\n",
        "```"
      ]
    },
    {
      "cell_type": "code",
      "metadata": {
        "id": "UDKs4gcr1Ip-",
        "colab_type": "code",
        "colab": {}
      },
      "source": [
        "#import python libraries\n",
        "\n",
        "import pandas as pd;\n",
        "import matplotlib.pyplot as plt;\n",
        "import seaborn as sns;\n",
        "import numpy as np;"
      ],
      "execution_count": 56,
      "outputs": []
    },
    {
      "cell_type": "code",
      "metadata": {
        "id": "N3ZQwpCe1q31",
        "colab_type": "code",
        "colab": {}
      },
      "source": [
        "#import all the csv files from the SQL queries\n",
        "\n",
        "from google.colab import files\n",
        "uploaded = files.upload()"
      ],
      "execution_count": null,
      "outputs": []
    },
    {
      "cell_type": "code",
      "metadata": {
        "id": "S6aGzWaR3qkt",
        "colab_type": "code",
        "colab": {
          "base_uri": "https://localhost:8080/",
          "height": 514
        },
        "outputId": "90471a69-fed4-43bf-ab56-a1b539cd698c"
      },
      "source": [
        "#show beers table contents\n",
        "\n",
        "beers_table = pd.read_csv(\"beers_table.csv\")\n",
        "beers_table.head(15)"
      ],
      "execution_count": 3,
      "outputs": [
        {
          "output_type": "execute_result",
          "data": {
            "text/html": [
              "<div>\n",
              "<style scoped>\n",
              "    .dataframe tbody tr th:only-of-type {\n",
              "        vertical-align: middle;\n",
              "    }\n",
              "\n",
              "    .dataframe tbody tr th {\n",
              "        vertical-align: top;\n",
              "    }\n",
              "\n",
              "    .dataframe thead th {\n",
              "        text-align: right;\n",
              "    }\n",
              "</style>\n",
              "<table border=\"1\" class=\"dataframe\">\n",
              "  <thead>\n",
              "    <tr style=\"text-align: right;\">\n",
              "      <th></th>\n",
              "      <th>entry</th>\n",
              "      <th>abv</th>\n",
              "      <th>ibu</th>\n",
              "      <th>id</th>\n",
              "      <th>name</th>\n",
              "      <th>style</th>\n",
              "      <th>brewery_id</th>\n",
              "      <th>ounces</th>\n",
              "    </tr>\n",
              "  </thead>\n",
              "  <tbody>\n",
              "    <tr>\n",
              "      <th>0</th>\n",
              "      <td>0</td>\n",
              "      <td>0.050</td>\n",
              "      <td>NaN</td>\n",
              "      <td>1436</td>\n",
              "      <td>Pub Beer</td>\n",
              "      <td>American Pale Lager</td>\n",
              "      <td>408</td>\n",
              "      <td>12.0</td>\n",
              "    </tr>\n",
              "    <tr>\n",
              "      <th>1</th>\n",
              "      <td>1</td>\n",
              "      <td>0.066</td>\n",
              "      <td>NaN</td>\n",
              "      <td>2265</td>\n",
              "      <td>Devil's Cup</td>\n",
              "      <td>American Pale Ale (APA)</td>\n",
              "      <td>177</td>\n",
              "      <td>12.0</td>\n",
              "    </tr>\n",
              "    <tr>\n",
              "      <th>2</th>\n",
              "      <td>2</td>\n",
              "      <td>0.071</td>\n",
              "      <td>NaN</td>\n",
              "      <td>2264</td>\n",
              "      <td>Rise of the Phoenix</td>\n",
              "      <td>American IPA</td>\n",
              "      <td>177</td>\n",
              "      <td>12.0</td>\n",
              "    </tr>\n",
              "    <tr>\n",
              "      <th>3</th>\n",
              "      <td>3</td>\n",
              "      <td>0.090</td>\n",
              "      <td>NaN</td>\n",
              "      <td>2263</td>\n",
              "      <td>Sinister</td>\n",
              "      <td>American Double / Imperial IPA</td>\n",
              "      <td>177</td>\n",
              "      <td>12.0</td>\n",
              "    </tr>\n",
              "    <tr>\n",
              "      <th>4</th>\n",
              "      <td>4</td>\n",
              "      <td>0.075</td>\n",
              "      <td>NaN</td>\n",
              "      <td>2262</td>\n",
              "      <td>Sex and Candy</td>\n",
              "      <td>American IPA</td>\n",
              "      <td>177</td>\n",
              "      <td>12.0</td>\n",
              "    </tr>\n",
              "    <tr>\n",
              "      <th>5</th>\n",
              "      <td>5</td>\n",
              "      <td>0.077</td>\n",
              "      <td>NaN</td>\n",
              "      <td>2261</td>\n",
              "      <td>Black Exodus</td>\n",
              "      <td>Oatmeal Stout</td>\n",
              "      <td>177</td>\n",
              "      <td>12.0</td>\n",
              "    </tr>\n",
              "    <tr>\n",
              "      <th>6</th>\n",
              "      <td>6</td>\n",
              "      <td>0.045</td>\n",
              "      <td>NaN</td>\n",
              "      <td>2260</td>\n",
              "      <td>Lake Street Express</td>\n",
              "      <td>American Pale Ale (APA)</td>\n",
              "      <td>177</td>\n",
              "      <td>12.0</td>\n",
              "    </tr>\n",
              "    <tr>\n",
              "      <th>7</th>\n",
              "      <td>7</td>\n",
              "      <td>0.065</td>\n",
              "      <td>NaN</td>\n",
              "      <td>2259</td>\n",
              "      <td>Foreman</td>\n",
              "      <td>American Porter</td>\n",
              "      <td>177</td>\n",
              "      <td>12.0</td>\n",
              "    </tr>\n",
              "    <tr>\n",
              "      <th>8</th>\n",
              "      <td>8</td>\n",
              "      <td>0.055</td>\n",
              "      <td>NaN</td>\n",
              "      <td>2258</td>\n",
              "      <td>Jade</td>\n",
              "      <td>American Pale Ale (APA)</td>\n",
              "      <td>177</td>\n",
              "      <td>12.0</td>\n",
              "    </tr>\n",
              "    <tr>\n",
              "      <th>9</th>\n",
              "      <td>9</td>\n",
              "      <td>0.086</td>\n",
              "      <td>NaN</td>\n",
              "      <td>2131</td>\n",
              "      <td>Cone Crusher</td>\n",
              "      <td>American Double / Imperial IPA</td>\n",
              "      <td>177</td>\n",
              "      <td>12.0</td>\n",
              "    </tr>\n",
              "    <tr>\n",
              "      <th>10</th>\n",
              "      <td>10</td>\n",
              "      <td>0.072</td>\n",
              "      <td>NaN</td>\n",
              "      <td>2099</td>\n",
              "      <td>Sophomoric Saison</td>\n",
              "      <td>Saison / Farmhouse Ale</td>\n",
              "      <td>177</td>\n",
              "      <td>12.0</td>\n",
              "    </tr>\n",
              "    <tr>\n",
              "      <th>11</th>\n",
              "      <td>11</td>\n",
              "      <td>0.073</td>\n",
              "      <td>NaN</td>\n",
              "      <td>2098</td>\n",
              "      <td>Regional Ring Of Fire</td>\n",
              "      <td>Saison / Farmhouse Ale</td>\n",
              "      <td>177</td>\n",
              "      <td>12.0</td>\n",
              "    </tr>\n",
              "    <tr>\n",
              "      <th>12</th>\n",
              "      <td>12</td>\n",
              "      <td>0.069</td>\n",
              "      <td>NaN</td>\n",
              "      <td>2097</td>\n",
              "      <td>Garce Selé</td>\n",
              "      <td>Saison / Farmhouse Ale</td>\n",
              "      <td>177</td>\n",
              "      <td>12.0</td>\n",
              "    </tr>\n",
              "    <tr>\n",
              "      <th>13</th>\n",
              "      <td>13</td>\n",
              "      <td>0.085</td>\n",
              "      <td>NaN</td>\n",
              "      <td>1980</td>\n",
              "      <td>Troll Destroyer</td>\n",
              "      <td>Belgian IPA</td>\n",
              "      <td>177</td>\n",
              "      <td>12.0</td>\n",
              "    </tr>\n",
              "    <tr>\n",
              "      <th>14</th>\n",
              "      <td>14</td>\n",
              "      <td>0.061</td>\n",
              "      <td>60.0</td>\n",
              "      <td>1979</td>\n",
              "      <td>Bitter Bitch</td>\n",
              "      <td>American Pale Ale (APA)</td>\n",
              "      <td>177</td>\n",
              "      <td>12.0</td>\n",
              "    </tr>\n",
              "  </tbody>\n",
              "</table>\n",
              "</div>"
            ],
            "text/plain": [
              "    entry    abv   ibu  ...                           style brewery_id ounces\n",
              "0       0  0.050   NaN  ...             American Pale Lager        408   12.0\n",
              "1       1  0.066   NaN  ...         American Pale Ale (APA)        177   12.0\n",
              "2       2  0.071   NaN  ...                    American IPA        177   12.0\n",
              "3       3  0.090   NaN  ...  American Double / Imperial IPA        177   12.0\n",
              "4       4  0.075   NaN  ...                    American IPA        177   12.0\n",
              "5       5  0.077   NaN  ...                   Oatmeal Stout        177   12.0\n",
              "6       6  0.045   NaN  ...         American Pale Ale (APA)        177   12.0\n",
              "7       7  0.065   NaN  ...                 American Porter        177   12.0\n",
              "8       8  0.055   NaN  ...         American Pale Ale (APA)        177   12.0\n",
              "9       9  0.086   NaN  ...  American Double / Imperial IPA        177   12.0\n",
              "10     10  0.072   NaN  ...          Saison / Farmhouse Ale        177   12.0\n",
              "11     11  0.073   NaN  ...          Saison / Farmhouse Ale        177   12.0\n",
              "12     12  0.069   NaN  ...          Saison / Farmhouse Ale        177   12.0\n",
              "13     13  0.085   NaN  ...                     Belgian IPA        177   12.0\n",
              "14     14  0.061  60.0  ...         American Pale Ale (APA)        177   12.0\n",
              "\n",
              "[15 rows x 8 columns]"
            ]
          },
          "metadata": {
            "tags": []
          },
          "execution_count": 3
        }
      ]
    },
    {
      "cell_type": "code",
      "metadata": {
        "id": "eSkma5wS34wK",
        "colab_type": "code",
        "colab": {
          "base_uri": "https://localhost:8080/",
          "height": 170
        },
        "outputId": "74e22dc6-e499-4d18-cfb2-9f115acddf6a"
      },
      "source": [
        "#display columns` data type\n",
        "\n",
        "display(beers_table.dtypes)"
      ],
      "execution_count": 4,
      "outputs": [
        {
          "output_type": "display_data",
          "data": {
            "text/plain": [
              "entry           int64\n",
              "abv           float64\n",
              "ibu           float64\n",
              "id              int64\n",
              "name           object\n",
              "style          object\n",
              "brewery_id      int64\n",
              "ounces        float64\n",
              "dtype: object"
            ]
          },
          "metadata": {
            "tags": []
          }
        }
      ]
    },
    {
      "cell_type": "markdown",
      "metadata": {
        "id": "GMh90h-x4I0-",
        "colab_type": "text"
      },
      "source": [
        "The columns *entry* and *brewery_id* are the table's primary and foreign keys, respectively.\n",
        "\n",
        "\n",
        "![image.png](https://drive.google.com/uc?id=1whY1trhc9rGzprm4Ax1mho8hE8jxlVgt)\n"
      ]
    },
    {
      "cell_type": "code",
      "metadata": {
        "id": "e8YzgtAX4dY0",
        "colab_type": "code",
        "colab": {
          "base_uri": "https://localhost:8080/",
          "height": 204
        },
        "outputId": "06550996-9af2-41df-8c4e-4bb69f8d00e0"
      },
      "source": [
        "#show breweries table contents\n",
        "\n",
        "breweries_table = pd.read_csv(\"breweries_table.csv\")\n",
        "breweries_table.head()"
      ],
      "execution_count": 5,
      "outputs": [
        {
          "output_type": "execute_result",
          "data": {
            "text/html": [
              "<div>\n",
              "<style scoped>\n",
              "    .dataframe tbody tr th:only-of-type {\n",
              "        vertical-align: middle;\n",
              "    }\n",
              "\n",
              "    .dataframe tbody tr th {\n",
              "        vertical-align: top;\n",
              "    }\n",
              "\n",
              "    .dataframe thead th {\n",
              "        text-align: right;\n",
              "    }\n",
              "</style>\n",
              "<table border=\"1\" class=\"dataframe\">\n",
              "  <thead>\n",
              "    <tr style=\"text-align: right;\">\n",
              "      <th></th>\n",
              "      <th>brewery_id</th>\n",
              "      <th>name</th>\n",
              "      <th>city</th>\n",
              "      <th>state</th>\n",
              "    </tr>\n",
              "  </thead>\n",
              "  <tbody>\n",
              "    <tr>\n",
              "      <th>0</th>\n",
              "      <td>0</td>\n",
              "      <td>NorthGate Brewing</td>\n",
              "      <td>Minneapolis</td>\n",
              "      <td>MN</td>\n",
              "    </tr>\n",
              "    <tr>\n",
              "      <th>1</th>\n",
              "      <td>1</td>\n",
              "      <td>Against the Grain Brewery</td>\n",
              "      <td>Louisville</td>\n",
              "      <td>KY</td>\n",
              "    </tr>\n",
              "    <tr>\n",
              "      <th>2</th>\n",
              "      <td>2</td>\n",
              "      <td>Jack's Abby Craft Lagers</td>\n",
              "      <td>Framingham</td>\n",
              "      <td>MA</td>\n",
              "    </tr>\n",
              "    <tr>\n",
              "      <th>3</th>\n",
              "      <td>3</td>\n",
              "      <td>Mike Hess Brewing Company</td>\n",
              "      <td>San Diego</td>\n",
              "      <td>CA</td>\n",
              "    </tr>\n",
              "    <tr>\n",
              "      <th>4</th>\n",
              "      <td>4</td>\n",
              "      <td>Fort Point Beer Company</td>\n",
              "      <td>San Francisco</td>\n",
              "      <td>CA</td>\n",
              "    </tr>\n",
              "  </tbody>\n",
              "</table>\n",
              "</div>"
            ],
            "text/plain": [
              "   brewery_id                       name           city state\n",
              "0           0         NorthGate Brewing     Minneapolis    MN\n",
              "1           1  Against the Grain Brewery     Louisville    KY\n",
              "2           2   Jack's Abby Craft Lagers     Framingham    MA\n",
              "3           3  Mike Hess Brewing Company      San Diego    CA\n",
              "4           4    Fort Point Beer Company  San Francisco    CA"
            ]
          },
          "metadata": {
            "tags": []
          },
          "execution_count": 5
        }
      ]
    },
    {
      "cell_type": "code",
      "metadata": {
        "id": "YoKiSEdC4oV3",
        "colab_type": "code",
        "colab": {
          "base_uri": "https://localhost:8080/",
          "height": 102
        },
        "outputId": "a9577244-0a19-4a32-bc42-7d0e34370a20"
      },
      "source": [
        "#display columns` data type\n",
        "\n",
        "display(breweries_table.dtypes)"
      ],
      "execution_count": 6,
      "outputs": [
        {
          "output_type": "display_data",
          "data": {
            "text/plain": [
              "brewery_id     int64\n",
              "name          object\n",
              "city          object\n",
              "state         object\n",
              "dtype: object"
            ]
          },
          "metadata": {
            "tags": []
          }
        }
      ]
    },
    {
      "cell_type": "markdown",
      "metadata": {
        "id": "a39mLEoc4xNh",
        "colab_type": "text"
      },
      "source": [
        "The column *brewery_id* is the table's primary key.\n",
        "\n",
        "\n",
        "![image.png](https://drive.google.com/uc?id=1z0_bSQdYdRrm8mKoSLqzGVl-3kAxH2Zm)"
      ]
    },
    {
      "cell_type": "markdown",
      "metadata": {
        "id": "DOs92erzepoY",
        "colab_type": "text"
      },
      "source": [
        "The database schema can be represented as below. It is possible to notice that the *beers* table has relationship with the *breweries* table's primary key *brewery_id*."
      ]
    },
    {
      "cell_type": "markdown",
      "metadata": {
        "id": "mab6ItOQbzFj",
        "colab_type": "text"
      },
      "source": [
        "![alt text](https://drive.google.com/uc?id=1n9tJ0NMhQh4vgQRuldQTeGGeI92xkCNL)\n"
      ]
    },
    {
      "cell_type": "markdown",
      "metadata": {
        "id": "Dv6P9n_AmG-f",
        "colab_type": "text"
      },
      "source": [
        "###How many beers and breweries are listed?\n"
      ]
    },
    {
      "cell_type": "markdown",
      "metadata": {
        "id": "YDhaFGqHmfJZ",
        "colab_type": "text"
      },
      "source": [
        "The query `SELECT count(entry) FROM beers;` gives a total number of 2348 beers.\n",
        "\n",
        "`SELECT count(brewery_id) FROM breweries;` shows there are a total of 558 breweries.\n",
        "\n"
      ]
    },
    {
      "cell_type": "markdown",
      "metadata": {
        "id": "j47Rro62n2mM",
        "colab_type": "text"
      },
      "source": [
        "###Which beers have highest ABV, IBU and amount by volume?"
      ]
    },
    {
      "cell_type": "markdown",
      "metadata": {
        "id": "GjLq3UqYoOjj",
        "colab_type": "text"
      },
      "source": [
        "Query and order beers with highest ABV:\n",
        "\n",
        "```\n",
        "SELECT entry, abv, name, style FROM beers \n",
        "ORDER BY abv DESC;\n",
        "```\n"
      ]
    },
    {
      "cell_type": "code",
      "metadata": {
        "id": "Trhxh4zT5yJJ",
        "colab_type": "code",
        "colab": {
          "base_uri": "https://localhost:8080/",
          "height": 359
        },
        "outputId": "82fff387-be5b-4dca-b95f-138099a814e8"
      },
      "source": [
        "abv = pd.read_csv(\"abv.csv\")\n",
        "abv.head(10)"
      ],
      "execution_count": 8,
      "outputs": [
        {
          "output_type": "execute_result",
          "data": {
            "text/html": [
              "<div>\n",
              "<style scoped>\n",
              "    .dataframe tbody tr th:only-of-type {\n",
              "        vertical-align: middle;\n",
              "    }\n",
              "\n",
              "    .dataframe tbody tr th {\n",
              "        vertical-align: top;\n",
              "    }\n",
              "\n",
              "    .dataframe thead th {\n",
              "        text-align: right;\n",
              "    }\n",
              "</style>\n",
              "<table border=\"1\" class=\"dataframe\">\n",
              "  <thead>\n",
              "    <tr style=\"text-align: right;\">\n",
              "      <th></th>\n",
              "      <th>entry</th>\n",
              "      <th>abv</th>\n",
              "      <th>name</th>\n",
              "      <th>style</th>\n",
              "    </tr>\n",
              "  </thead>\n",
              "  <tbody>\n",
              "    <tr>\n",
              "      <th>0</th>\n",
              "      <td>2278</td>\n",
              "      <td>0.128</td>\n",
              "      <td>Lee Hill Series Vol. 5 - Belgian Style Quadrup...</td>\n",
              "      <td>Quadrupel (Quad)</td>\n",
              "    </tr>\n",
              "    <tr>\n",
              "      <th>1</th>\n",
              "      <td>70</td>\n",
              "      <td>0.125</td>\n",
              "      <td>London Balling</td>\n",
              "      <td>English Barleywine</td>\n",
              "    </tr>\n",
              "    <tr>\n",
              "      <th>2</th>\n",
              "      <td>2189</td>\n",
              "      <td>0.120</td>\n",
              "      <td>Csar</td>\n",
              "      <td>Russian Imperial Stout</td>\n",
              "    </tr>\n",
              "    <tr>\n",
              "      <th>3</th>\n",
              "      <td>2279</td>\n",
              "      <td>0.104</td>\n",
              "      <td>Lee Hill Series Vol. 4 - Manhattan Style Rye Ale</td>\n",
              "      <td>Rye Beer</td>\n",
              "    </tr>\n",
              "    <tr>\n",
              "      <th>4</th>\n",
              "      <td>1857</td>\n",
              "      <td>0.100</td>\n",
              "      <td>4Beans</td>\n",
              "      <td>Baltic Porter</td>\n",
              "    </tr>\n",
              "    <tr>\n",
              "      <th>5</th>\n",
              "      <td>21</td>\n",
              "      <td>0.099</td>\n",
              "      <td>Lower De Boom</td>\n",
              "      <td>American Barleywine</td>\n",
              "    </tr>\n",
              "    <tr>\n",
              "      <th>6</th>\n",
              "      <td>267</td>\n",
              "      <td>0.099</td>\n",
              "      <td>Forest Fire Imperial Smoked Rye</td>\n",
              "      <td>Rye Beer</td>\n",
              "    </tr>\n",
              "    <tr>\n",
              "      <th>7</th>\n",
              "      <td>412</td>\n",
              "      <td>0.099</td>\n",
              "      <td>Wizard Burial Ground</td>\n",
              "      <td>Quadrupel (Quad)</td>\n",
              "    </tr>\n",
              "    <tr>\n",
              "      <th>8</th>\n",
              "      <td>437</td>\n",
              "      <td>0.099</td>\n",
              "      <td>Hubris Quadrupel Anniversary Ale</td>\n",
              "      <td>Quadrupel (Quad)</td>\n",
              "    </tr>\n",
              "    <tr>\n",
              "      <th>9</th>\n",
              "      <td>441</td>\n",
              "      <td>0.099</td>\n",
              "      <td>Vivant Belgian Style Imperial Stout (2012)</td>\n",
              "      <td>Russian Imperial Stout</td>\n",
              "    </tr>\n",
              "  </tbody>\n",
              "</table>\n",
              "</div>"
            ],
            "text/plain": [
              "   entry  ...                   style\n",
              "0   2278  ...        Quadrupel (Quad)\n",
              "1     70  ...      English Barleywine\n",
              "2   2189  ...  Russian Imperial Stout\n",
              "3   2279  ...                Rye Beer\n",
              "4   1857  ...           Baltic Porter\n",
              "5     21  ...     American Barleywine\n",
              "6    267  ...                Rye Beer\n",
              "7    412  ...        Quadrupel (Quad)\n",
              "8    437  ...        Quadrupel (Quad)\n",
              "9    441  ...  Russian Imperial Stout\n",
              "\n",
              "[10 rows x 4 columns]"
            ]
          },
          "metadata": {
            "tags": []
          },
          "execution_count": 8
        }
      ]
    },
    {
      "cell_type": "markdown",
      "metadata": {
        "id": "6iMH5vCr5_qs",
        "colab_type": "text"
      },
      "source": [
        "List the highest values of IBU:\n",
        "\n",
        "```\n",
        "SELECT entry, ibu, name, style FROM beers \n",
        "WHERE ibu > 0\n",
        "ORDER BY ibu DESC;\n",
        "```\n",
        "\n"
      ]
    },
    {
      "cell_type": "code",
      "metadata": {
        "id": "WafV66Dp6NAM",
        "colab_type": "code",
        "colab": {
          "base_uri": "https://localhost:8080/",
          "height": 359
        },
        "outputId": "ee58b61b-9557-4e8b-fdc1-0e3d14c2c015"
      },
      "source": [
        "ibu = pd.read_csv(\"ibu.csv\")\n",
        "ibu.head(10)"
      ],
      "execution_count": 9,
      "outputs": [
        {
          "output_type": "execute_result",
          "data": {
            "text/html": [
              "<div>\n",
              "<style scoped>\n",
              "    .dataframe tbody tr th:only-of-type {\n",
              "        vertical-align: middle;\n",
              "    }\n",
              "\n",
              "    .dataframe tbody tr th {\n",
              "        vertical-align: top;\n",
              "    }\n",
              "\n",
              "    .dataframe thead th {\n",
              "        text-align: right;\n",
              "    }\n",
              "</style>\n",
              "<table border=\"1\" class=\"dataframe\">\n",
              "  <thead>\n",
              "    <tr style=\"text-align: right;\">\n",
              "      <th></th>\n",
              "      <th>entry</th>\n",
              "      <th>ibu</th>\n",
              "      <th>name</th>\n",
              "      <th>style</th>\n",
              "    </tr>\n",
              "  </thead>\n",
              "  <tbody>\n",
              "    <tr>\n",
              "      <th>0</th>\n",
              "      <td>1788</td>\n",
              "      <td>99.0</td>\n",
              "      <td>Count Hopula (Vault Series)</td>\n",
              "      <td>American Double / Imperial IPA</td>\n",
              "    </tr>\n",
              "    <tr>\n",
              "      <th>1</th>\n",
              "      <td>971</td>\n",
              "      <td>99.0</td>\n",
              "      <td>Hop A Potamus Double Dark Rye Pale Ale</td>\n",
              "      <td>Rye Beer</td>\n",
              "    </tr>\n",
              "    <tr>\n",
              "      <th>2</th>\n",
              "      <td>579</td>\n",
              "      <td>99.0</td>\n",
              "      <td>Terrace Hill Double IPA</td>\n",
              "      <td>American Double / Imperial IPA</td>\n",
              "    </tr>\n",
              "    <tr>\n",
              "      <th>3</th>\n",
              "      <td>2084</td>\n",
              "      <td>99.0</td>\n",
              "      <td>Furious</td>\n",
              "      <td>American IPA</td>\n",
              "    </tr>\n",
              "    <tr>\n",
              "      <th>4</th>\n",
              "      <td>1598</td>\n",
              "      <td>98.0</td>\n",
              "      <td>Ten Fidy</td>\n",
              "      <td>Russian Imperial Stout</td>\n",
              "    </tr>\n",
              "    <tr>\n",
              "      <th>5</th>\n",
              "      <td>1585</td>\n",
              "      <td>98.0</td>\n",
              "      <td>Ten Fidy Imperial Stout (2008)</td>\n",
              "      <td>Russian Imperial Stout</td>\n",
              "    </tr>\n",
              "    <tr>\n",
              "      <th>6</th>\n",
              "      <td>1578</td>\n",
              "      <td>98.0</td>\n",
              "      <td>Ten Fidy Imperial Stout</td>\n",
              "      <td>Russian Imperial Stout</td>\n",
              "    </tr>\n",
              "    <tr>\n",
              "      <th>7</th>\n",
              "      <td>1586</td>\n",
              "      <td>98.0</td>\n",
              "      <td>Ten Fidy Imperial Stout (2007)</td>\n",
              "      <td>Russian Imperial Stout</td>\n",
              "    </tr>\n",
              "    <tr>\n",
              "      <th>8</th>\n",
              "      <td>835</td>\n",
              "      <td>97.0</td>\n",
              "      <td>Vortex IPA</td>\n",
              "      <td>American IPA</td>\n",
              "    </tr>\n",
              "    <tr>\n",
              "      <th>9</th>\n",
              "      <td>2095</td>\n",
              "      <td>95.0</td>\n",
              "      <td>Dodgy Knight Imperial IPA</td>\n",
              "      <td>American Double / Imperial IPA</td>\n",
              "    </tr>\n",
              "  </tbody>\n",
              "</table>\n",
              "</div>"
            ],
            "text/plain": [
              "   entry  ...                           style\n",
              "0   1788  ...  American Double / Imperial IPA\n",
              "1    971  ...                        Rye Beer\n",
              "2    579  ...  American Double / Imperial IPA\n",
              "3   2084  ...                    American IPA\n",
              "4   1598  ...          Russian Imperial Stout\n",
              "5   1585  ...          Russian Imperial Stout\n",
              "6   1578  ...          Russian Imperial Stout\n",
              "7   1586  ...          Russian Imperial Stout\n",
              "8    835  ...                    American IPA\n",
              "9   2095  ...  American Double / Imperial IPA\n",
              "\n",
              "[10 rows x 4 columns]"
            ]
          },
          "metadata": {
            "tags": []
          },
          "execution_count": 9
        }
      ]
    },
    {
      "cell_type": "markdown",
      "metadata": {
        "id": "Wkn4oP8l6Om1",
        "colab_type": "text"
      },
      "source": [
        "List the largest cans of the dataset:\n",
        "\n",
        "```\n",
        "SELECT ounces , count(ounces) AS number_by_volume FROM beers \n",
        "GROUP BY ounces\n",
        "ORDER BY ounces DESC;\n",
        "```\n"
      ]
    },
    {
      "cell_type": "code",
      "metadata": {
        "id": "ka7S1-WD6qKw",
        "colab_type": "code",
        "colab": {
          "base_uri": "https://localhost:8080/",
          "height": 266
        },
        "outputId": "8f0fdf29-a4ef-4d7e-a778-4d627357eb99"
      },
      "source": [
        "ounces = pd.read_csv(\"ounces.csv\")\n",
        "ounces"
      ],
      "execution_count": 10,
      "outputs": [
        {
          "output_type": "execute_result",
          "data": {
            "text/html": [
              "<div>\n",
              "<style scoped>\n",
              "    .dataframe tbody tr th:only-of-type {\n",
              "        vertical-align: middle;\n",
              "    }\n",
              "\n",
              "    .dataframe tbody tr th {\n",
              "        vertical-align: top;\n",
              "    }\n",
              "\n",
              "    .dataframe thead th {\n",
              "        text-align: right;\n",
              "    }\n",
              "</style>\n",
              "<table border=\"1\" class=\"dataframe\">\n",
              "  <thead>\n",
              "    <tr style=\"text-align: right;\">\n",
              "      <th></th>\n",
              "      <th>ounces</th>\n",
              "      <th>number_by_volume</th>\n",
              "    </tr>\n",
              "  </thead>\n",
              "  <tbody>\n",
              "    <tr>\n",
              "      <th>0</th>\n",
              "      <td>32.0</td>\n",
              "      <td>4</td>\n",
              "    </tr>\n",
              "    <tr>\n",
              "      <th>1</th>\n",
              "      <td>24.0</td>\n",
              "      <td>22</td>\n",
              "    </tr>\n",
              "    <tr>\n",
              "      <th>2</th>\n",
              "      <td>19.2</td>\n",
              "      <td>15</td>\n",
              "    </tr>\n",
              "    <tr>\n",
              "      <th>3</th>\n",
              "      <td>16.9</td>\n",
              "      <td>1</td>\n",
              "    </tr>\n",
              "    <tr>\n",
              "      <th>4</th>\n",
              "      <td>16.0</td>\n",
              "      <td>821</td>\n",
              "    </tr>\n",
              "    <tr>\n",
              "      <th>5</th>\n",
              "      <td>12.0</td>\n",
              "      <td>1484</td>\n",
              "    </tr>\n",
              "    <tr>\n",
              "      <th>6</th>\n",
              "      <td>8.4</td>\n",
              "      <td>1</td>\n",
              "    </tr>\n",
              "  </tbody>\n",
              "</table>\n",
              "</div>"
            ],
            "text/plain": [
              "   ounces  number_by_volume\n",
              "0    32.0                 4\n",
              "1    24.0                22\n",
              "2    19.2                15\n",
              "3    16.9                 1\n",
              "4    16.0               821\n",
              "5    12.0              1484\n",
              "6     8.4                 1"
            ]
          },
          "metadata": {
            "tags": []
          },
          "execution_count": 10
        }
      ]
    },
    {
      "cell_type": "markdown",
      "metadata": {
        "id": "ONGm7gkU6lXz",
        "colab_type": "text"
      },
      "source": [
        "The strogest beers have around 12% alcohol by volume. The most bitter beers have IBU of 99 and most of them are American Double/Imperial IPA style. Most canned beers are on 12 and 16 ounces cans, 1484 and 821 beers respectively."
      ]
    },
    {
      "cell_type": "code",
      "metadata": {
        "id": "3HQ6DwDD6Gkv",
        "colab_type": "code",
        "colab": {
          "base_uri": "https://localhost:8080/",
          "height": 519
        },
        "outputId": "39b7d65d-062d-49a2-d340-8a87b65321aa"
      },
      "source": [
        "#plot the distribution of ABV x IBU\n",
        "\n",
        "beers_table.plot(kind=\"scatter\", x='abv', y='ibu', figsize=(8,8),fontsize=15, grid = True)"
      ],
      "execution_count": 13,
      "outputs": [
        {
          "output_type": "execute_result",
          "data": {
            "text/plain": [
              "<matplotlib.axes._subplots.AxesSubplot at 0x7f416632eb38>"
            ]
          },
          "metadata": {
            "tags": []
          },
          "execution_count": 13
        },
        {
          "output_type": "display_data",
          "data": {
            "image/png": "[encoded data removed]",
            "text/plain": [
              "<Figure size 576x576 with 1 Axes>"
            ]
          },
          "metadata": {
            "tags": [],
            "needs_background": "light"
          }
        }
      ]
    },
    {
      "cell_type": "markdown",
      "metadata": {
        "id": "WrnyhdxooNm8",
        "colab_type": "text"
      },
      "source": [
        "###How many styles of beer? Which ones are they?"
      ]
    },
    {
      "cell_type": "markdown",
      "metadata": {
        "id": "jFcDg5zNoW6r",
        "colab_type": "text"
      },
      "source": [
        "\n",
        "```\n",
        "SELECT DISTINCT style FROM beers;\n",
        "SELECT count(DISTINCT style) FROM beers;\n",
        "```\n",
        "\n",
        "This query shows 100 distinct beer styles."
      ]
    },
    {
      "cell_type": "markdown",
      "metadata": {
        "id": "5zU2tkeB8Xur",
        "colab_type": "text"
      },
      "source": [
        "\n",
        "\n",
        "```\n",
        "SELECT style, count(style) AS number_beer_by_style FROM beers \n",
        "GROUP BY style\n",
        "ORDER BY number_beer_by_style DESC;\n",
        "```\n"
      ]
    },
    {
      "cell_type": "code",
      "metadata": {
        "id": "UNLhabNA67rX",
        "colab_type": "code",
        "colab": {
          "base_uri": "https://localhost:8080/",
          "height": 359
        },
        "outputId": "7680231e-35d1-419f-bf00-ba04c59bd0ee"
      },
      "source": [
        "styles = pd.read_csv(\"styles.csv\")\n",
        "styles.head(10)"
      ],
      "execution_count": null,
      "outputs": [
        {
          "output_type": "execute_result",
          "data": {
            "text/html": [
              "<div>\n",
              "<style scoped>\n",
              "    .dataframe tbody tr th:only-of-type {\n",
              "        vertical-align: middle;\n",
              "    }\n",
              "\n",
              "    .dataframe tbody tr th {\n",
              "        vertical-align: top;\n",
              "    }\n",
              "\n",
              "    .dataframe thead th {\n",
              "        text-align: right;\n",
              "    }\n",
              "</style>\n",
              "<table border=\"1\" class=\"dataframe\">\n",
              "  <thead>\n",
              "    <tr style=\"text-align: right;\">\n",
              "      <th></th>\n",
              "      <th>style</th>\n",
              "      <th>number_beer_by_style</th>\n",
              "    </tr>\n",
              "  </thead>\n",
              "  <tbody>\n",
              "    <tr>\n",
              "      <th>0</th>\n",
              "      <td>American IPA</td>\n",
              "      <td>417</td>\n",
              "    </tr>\n",
              "    <tr>\n",
              "      <th>1</th>\n",
              "      <td>American Pale Ale (APA)</td>\n",
              "      <td>239</td>\n",
              "    </tr>\n",
              "    <tr>\n",
              "      <th>2</th>\n",
              "      <td>American Amber / Red Ale</td>\n",
              "      <td>125</td>\n",
              "    </tr>\n",
              "    <tr>\n",
              "      <th>3</th>\n",
              "      <td>American Blonde Ale</td>\n",
              "      <td>104</td>\n",
              "    </tr>\n",
              "    <tr>\n",
              "      <th>4</th>\n",
              "      <td>American Double / Imperial IPA</td>\n",
              "      <td>103</td>\n",
              "    </tr>\n",
              "    <tr>\n",
              "      <th>5</th>\n",
              "      <td>American Pale Wheat Ale</td>\n",
              "      <td>95</td>\n",
              "    </tr>\n",
              "    <tr>\n",
              "      <th>6</th>\n",
              "      <td>American Brown Ale</td>\n",
              "      <td>68</td>\n",
              "    </tr>\n",
              "    <tr>\n",
              "      <th>7</th>\n",
              "      <td>American Porter</td>\n",
              "      <td>65</td>\n",
              "    </tr>\n",
              "    <tr>\n",
              "      <th>8</th>\n",
              "      <td>Saison / Farmhouse Ale</td>\n",
              "      <td>52</td>\n",
              "    </tr>\n",
              "    <tr>\n",
              "      <th>9</th>\n",
              "      <td>Witbier</td>\n",
              "      <td>49</td>\n",
              "    </tr>\n",
              "  </tbody>\n",
              "</table>\n",
              "</div>"
            ],
            "text/plain": [
              "                            style  number_beer_by_style\n",
              "0                    American IPA                   417\n",
              "1         American Pale Ale (APA)                   239\n",
              "2        American Amber / Red Ale                   125\n",
              "3             American Blonde Ale                   104\n",
              "4  American Double / Imperial IPA                   103\n",
              "5         American Pale Wheat Ale                    95\n",
              "6              American Brown Ale                    68\n",
              "7                 American Porter                    65\n",
              "8          Saison / Farmhouse Ale                    52\n",
              "9                         Witbier                    49"
            ]
          },
          "metadata": {
            "tags": []
          },
          "execution_count": 16
        }
      ]
    },
    {
      "cell_type": "markdown",
      "metadata": {
        "id": "YSFJUR3i6751",
        "colab_type": "text"
      },
      "source": [
        "The most commom styles are American IPA, APA, America Amber/Red Ale, American Blonde Ale and American Double/Imperial IPA."
      ]
    },
    {
      "cell_type": "markdown",
      "metadata": {
        "id": "UhsRCjVL2tAl",
        "colab_type": "text"
      },
      "source": [
        "This query shows the mean ABV and mean IBU for each style:\n",
        "```\n",
        "SELECT style, avg(abv*100) as mean_abv, avg(ibu) as mean_ibu, count(style) AS number_beer_by_style FROM beers \n",
        "GROUP BY style\n",
        "ORDER BY number_beer_by_style DESC;\n",
        "```\n",
        "\n"
      ]
    },
    {
      "cell_type": "code",
      "metadata": {
        "id": "QFAfGg5c217-",
        "colab_type": "code",
        "colab": {
          "base_uri": "https://localhost:8080/",
          "height": 359
        },
        "outputId": "f94abad6-6d0d-4a47-f56b-283b70853867"
      },
      "source": [
        "styles_ibu_abv = pd.read_csv(\"styles_ibu_abv.csv\")\n",
        "styles_ibu_abv.head(10)"
      ],
      "execution_count": 14,
      "outputs": [
        {
          "output_type": "execute_result",
          "data": {
            "text/html": [
              "<div>\n",
              "<style scoped>\n",
              "    .dataframe tbody tr th:only-of-type {\n",
              "        vertical-align: middle;\n",
              "    }\n",
              "\n",
              "    .dataframe tbody tr th {\n",
              "        vertical-align: top;\n",
              "    }\n",
              "\n",
              "    .dataframe thead th {\n",
              "        text-align: right;\n",
              "    }\n",
              "</style>\n",
              "<table border=\"1\" class=\"dataframe\">\n",
              "  <thead>\n",
              "    <tr style=\"text-align: right;\">\n",
              "      <th></th>\n",
              "      <th>style</th>\n",
              "      <th>mean_abv</th>\n",
              "      <th>mean_ibu</th>\n",
              "      <th>number_beer_by_style</th>\n",
              "    </tr>\n",
              "  </thead>\n",
              "  <tbody>\n",
              "    <tr>\n",
              "      <th>0</th>\n",
              "      <td>American IPA</td>\n",
              "      <td>6.452758</td>\n",
              "      <td>48.820144</td>\n",
              "      <td>417</td>\n",
              "    </tr>\n",
              "    <tr>\n",
              "      <th>1</th>\n",
              "      <td>American Pale Ale (APA)</td>\n",
              "      <td>5.457741</td>\n",
              "      <td>28.769874</td>\n",
              "      <td>239</td>\n",
              "    </tr>\n",
              "    <tr>\n",
              "      <th>2</th>\n",
              "      <td>American Amber / Red Ale</td>\n",
              "      <td>5.745600</td>\n",
              "      <td>22.360000</td>\n",
              "      <td>125</td>\n",
              "    </tr>\n",
              "    <tr>\n",
              "      <th>3</th>\n",
              "      <td>American Blonde Ale</td>\n",
              "      <td>4.963462</td>\n",
              "      <td>12.307692</td>\n",
              "      <td>104</td>\n",
              "    </tr>\n",
              "    <tr>\n",
              "      <th>4</th>\n",
              "      <td>American Double / Imperial IPA</td>\n",
              "      <td>8.736893</td>\n",
              "      <td>67.951456</td>\n",
              "      <td>103</td>\n",
              "    </tr>\n",
              "    <tr>\n",
              "      <th>5</th>\n",
              "      <td>American Pale Wheat Ale</td>\n",
              "      <td>4.841053</td>\n",
              "      <td>13.284211</td>\n",
              "      <td>95</td>\n",
              "    </tr>\n",
              "    <tr>\n",
              "      <th>6</th>\n",
              "      <td>American Brown Ale</td>\n",
              "      <td>5.792647</td>\n",
              "      <td>16.705882</td>\n",
              "      <td>68</td>\n",
              "    </tr>\n",
              "    <tr>\n",
              "      <th>7</th>\n",
              "      <td>American Porter</td>\n",
              "      <td>5.960000</td>\n",
              "      <td>19.153846</td>\n",
              "      <td>65</td>\n",
              "    </tr>\n",
              "    <tr>\n",
              "      <th>8</th>\n",
              "      <td>Saison / Farmhouse Ale</td>\n",
              "      <td>6.144231</td>\n",
              "      <td>12.557692</td>\n",
              "      <td>52</td>\n",
              "    </tr>\n",
              "    <tr>\n",
              "      <th>9</th>\n",
              "      <td>Witbier</td>\n",
              "      <td>5.355102</td>\n",
              "      <td>7.938776</td>\n",
              "      <td>49</td>\n",
              "    </tr>\n",
              "  </tbody>\n",
              "</table>\n",
              "</div>"
            ],
            "text/plain": [
              "                            style  mean_abv   mean_ibu  number_beer_by_style\n",
              "0                    American IPA  6.452758  48.820144                   417\n",
              "1         American Pale Ale (APA)  5.457741  28.769874                   239\n",
              "2        American Amber / Red Ale  5.745600  22.360000                   125\n",
              "3             American Blonde Ale  4.963462  12.307692                   104\n",
              "4  American Double / Imperial IPA  8.736893  67.951456                   103\n",
              "5         American Pale Wheat Ale  4.841053  13.284211                    95\n",
              "6              American Brown Ale  5.792647  16.705882                    68\n",
              "7                 American Porter  5.960000  19.153846                    65\n",
              "8          Saison / Farmhouse Ale  6.144231  12.557692                    52\n",
              "9                         Witbier  5.355102   7.938776                    49"
            ]
          },
          "metadata": {
            "tags": []
          },
          "execution_count": 14
        }
      ]
    },
    {
      "cell_type": "code",
      "metadata": {
        "id": "cxIKrqs81Aph",
        "colab_type": "code",
        "colab": {
          "base_uri": "https://localhost:8080/",
          "height": 913
        },
        "outputId": "7745cf9d-f25c-4c59-8c51-e95e816a6ba9"
      },
      "source": [
        "#plot the mean ABV, mean IBU and total number of beers of each style\n",
        "\n",
        "top_styles = styles_ibu_abv.head(10)\n",
        "styles_abv = top_styles[['style','mean_abv']]\n",
        "styles_ibu = top_styles[['style','mean_ibu']]\n",
        "\n",
        "top_styles.plot(kind='bar', figsize=(10,10), x='style',subplots=True, grid=False,layout=(3, 1), sharex=True, sharey=False, legend=False, fontsize=15)"
      ],
      "execution_count": 16,
      "outputs": [
        {
          "output_type": "execute_result",
          "data": {
            "text/plain": [
              "array([[<matplotlib.axes._subplots.AxesSubplot object at 0x7f4165b5f470>],\n",
              "       [<matplotlib.axes._subplots.AxesSubplot object at 0x7f4165b1c8d0>],\n",
              "       [<matplotlib.axes._subplots.AxesSubplot object at 0x7f4165acf8d0>]],\n",
              "      dtype=object)"
            ]
          },
          "metadata": {
            "tags": []
          },
          "execution_count": 16
        },
        {
          "output_type": "display_data",
          "data": {
            "image/png": "[encoded data removed]",
            "text/plain": [
              "<Figure size 720x720 with 3 Axes>"
            ]
          },
          "metadata": {
            "tags": [],
            "needs_background": "light"
          }
        }
      ]
    },
    {
      "cell_type": "markdown",
      "metadata": {
        "id": "mLWF2P54XQ75",
        "colab_type": "text"
      },
      "source": [
        "It is noticible that America IPA style is the most popular style brewed it the USA, around 18% of the total number of beers belong to this style. The most bitter and strong style is American Double / Imperial IPA."
      ]
    },
    {
      "cell_type": "markdown",
      "metadata": {
        "id": "nCHJtCO_oYn7",
        "colab_type": "text"
      },
      "source": [
        "###How many beers can be classified as strong, regular or light?"
      ]
    },
    {
      "cell_type": "markdown",
      "metadata": {
        "id": "7ZyzOk8YYR_L",
        "colab_type": "text"
      },
      "source": [
        "Classification of beers by their ABV, which Very Strong Beer have more than 9% of alcohol by volume, Strong Beer have between 5% and 9%, Regular Beer have 2% to 5% and Light Beer are the ones with less than 2% ABV."
      ]
    },
    {
      "cell_type": "markdown",
      "metadata": {
        "id": "cI0vyBQIoqT3",
        "colab_type": "text"
      },
      "source": [
        "```\n",
        "SELECT COUNT(*) AS total_by_classification, AVG(abv) AS mean_abv, \n",
        "CASE\n",
        "\tWHEN abv >= 0.09 THEN 'Very Strong Beer'\n",
        "    WHEN abv >= 0.05 AND abv < 0.09 THEN 'Strong Beer'\n",
        "    WHEN abv >= 0.02 AND abv < 0.05 THEN 'Regular Beer'\n",
        "    ELSE 'Light Beer'\n",
        "END AS classification\n",
        "FROM beers\n",
        "GROUP BY classification\n",
        "ORDER BY total_by_classification DESC;\n",
        "```\n",
        "\n"
      ]
    },
    {
      "cell_type": "code",
      "metadata": {
        "id": "NwWlCv0b7bQf",
        "colab_type": "code",
        "colab": {
          "base_uri": "https://localhost:8080/",
          "height": 173
        },
        "outputId": "5303b7c6-f981-4ba5-fb24-ed32922125d0"
      },
      "source": [
        "classification = pd.read_csv(\"classification.csv\")\n",
        "classification"
      ],
      "execution_count": 17,
      "outputs": [
        {
          "output_type": "execute_result",
          "data": {
            "text/html": [
              "<div>\n",
              "<style scoped>\n",
              "    .dataframe tbody tr th:only-of-type {\n",
              "        vertical-align: middle;\n",
              "    }\n",
              "\n",
              "    .dataframe tbody tr th {\n",
              "        vertical-align: top;\n",
              "    }\n",
              "\n",
              "    .dataframe thead th {\n",
              "        text-align: right;\n",
              "    }\n",
              "</style>\n",
              "<table border=\"1\" class=\"dataframe\">\n",
              "  <thead>\n",
              "    <tr style=\"text-align: right;\">\n",
              "      <th></th>\n",
              "      <th>total_by_classification</th>\n",
              "      <th>mean_abv</th>\n",
              "      <th>classification</th>\n",
              "    </tr>\n",
              "  </thead>\n",
              "  <tbody>\n",
              "    <tr>\n",
              "      <th>0</th>\n",
              "      <td>1779</td>\n",
              "      <td>0.061502</td>\n",
              "      <td>Strong Beer</td>\n",
              "    </tr>\n",
              "    <tr>\n",
              "      <th>1</th>\n",
              "      <td>460</td>\n",
              "      <td>0.044763</td>\n",
              "      <td>Regular Beer</td>\n",
              "    </tr>\n",
              "    <tr>\n",
              "      <th>2</th>\n",
              "      <td>108</td>\n",
              "      <td>0.095778</td>\n",
              "      <td>Very Strong Beer</td>\n",
              "    </tr>\n",
              "    <tr>\n",
              "      <th>3</th>\n",
              "      <td>1</td>\n",
              "      <td>0.001000</td>\n",
              "      <td>Light Beer</td>\n",
              "    </tr>\n",
              "  </tbody>\n",
              "</table>\n",
              "</div>"
            ],
            "text/plain": [
              "   total_by_classification  mean_abv    classification\n",
              "0                     1779  0.061502       Strong Beer\n",
              "1                      460  0.044763      Regular Beer\n",
              "2                      108  0.095778  Very Strong Beer\n",
              "3                        1  0.001000        Light Beer"
            ]
          },
          "metadata": {
            "tags": []
          },
          "execution_count": 17
        }
      ]
    },
    {
      "cell_type": "code",
      "metadata": {
        "id": "V1jnqtALIN3Z",
        "colab_type": "code",
        "colab": {
          "base_uri": "https://localhost:8080/",
          "height": 414
        },
        "outputId": "d4f09360-d21e-4464-abe4-2342b7fdc249"
      },
      "source": [
        "#plot the classification results\n",
        "\n",
        "classification.plot(kind='bar',x='classification',y='total_by_classification', fontsize=15)"
      ],
      "execution_count": 19,
      "outputs": [
        {
          "output_type": "execute_result",
          "data": {
            "text/plain": [
              "<matplotlib.axes._subplots.AxesSubplot at 0x7f4165996080>"
            ]
          },
          "metadata": {
            "tags": []
          },
          "execution_count": 19
        },
        {
          "output_type": "display_data",
          "data": {
            "image/png": "[encoded data removed]",
            "text/plain": [
              "<Figure size 432x288 with 1 Axes>"
            ]
          },
          "metadata": {
            "tags": [],
            "needs_background": "light"
          }
        }
      ]
    },
    {
      "cell_type": "markdown",
      "metadata": {
        "id": "M7hXCURe9Qvw",
        "colab_type": "text"
      },
      "source": [
        "The query above shows that most produced beers have Strong Beer classification, at a number of 1779 total beers."
      ]
    },
    {
      "cell_type": "markdown",
      "metadata": {
        "id": "XXKCntY3osMw",
        "colab_type": "text"
      },
      "source": [
        "###What are the top 5 breweries in number of amount of different beers produced?"
      ]
    },
    {
      "cell_type": "markdown",
      "metadata": {
        "id": "WpXTYo5Ho_44",
        "colab_type": "text"
      },
      "source": [
        "\n",
        "\n",
        "```\n",
        "SELECT B.name, count(*) AS beers_per_brewery, A.brewery_id FROM beers A\n",
        "INNER JOIN breweries B\n",
        "ON A.brewery_id = B.brewery_id\n",
        "GROUP BY B.name\n",
        "ORDER BY count(*) DESC;\n",
        "```\n",
        "\n"
      ]
    },
    {
      "cell_type": "code",
      "metadata": {
        "id": "R-o66H1kTDHm",
        "colab_type": "code",
        "colab": {
          "base_uri": "https://localhost:8080/",
          "height": 359
        },
        "outputId": "aaf239fe-575f-4ff1-fbcb-5cde4d24a895"
      },
      "source": [
        "beers_per_brewery = pd.read_csv(\"beers_per_brewery.csv\")\n",
        "beers_per_brewery.head(10)"
      ],
      "execution_count": 20,
      "outputs": [
        {
          "output_type": "execute_result",
          "data": {
            "text/html": [
              "<div>\n",
              "<style scoped>\n",
              "    .dataframe tbody tr th:only-of-type {\n",
              "        vertical-align: middle;\n",
              "    }\n",
              "\n",
              "    .dataframe tbody tr th {\n",
              "        vertical-align: top;\n",
              "    }\n",
              "\n",
              "    .dataframe thead th {\n",
              "        text-align: right;\n",
              "    }\n",
              "</style>\n",
              "<table border=\"1\" class=\"dataframe\">\n",
              "  <thead>\n",
              "    <tr style=\"text-align: right;\">\n",
              "      <th></th>\n",
              "      <th>name</th>\n",
              "      <th>beers_per_brewery</th>\n",
              "      <th>brewery_id</th>\n",
              "    </tr>\n",
              "  </thead>\n",
              "  <tbody>\n",
              "    <tr>\n",
              "      <th>0</th>\n",
              "      <td>Brewery Vivant</td>\n",
              "      <td>60</td>\n",
              "      <td>10</td>\n",
              "    </tr>\n",
              "    <tr>\n",
              "      <th>1</th>\n",
              "      <td>Oskar Blues Brewery</td>\n",
              "      <td>42</td>\n",
              "      <td>166</td>\n",
              "    </tr>\n",
              "    <tr>\n",
              "      <th>2</th>\n",
              "      <td>Sun King Brewing Company</td>\n",
              "      <td>36</td>\n",
              "      <td>25</td>\n",
              "    </tr>\n",
              "    <tr>\n",
              "      <th>3</th>\n",
              "      <td>Cigar City Brewing Company</td>\n",
              "      <td>25</td>\n",
              "      <td>141</td>\n",
              "    </tr>\n",
              "    <tr>\n",
              "      <th>4</th>\n",
              "      <td>Sixpoint Craft Ales</td>\n",
              "      <td>24</td>\n",
              "      <td>46</td>\n",
              "    </tr>\n",
              "    <tr>\n",
              "      <th>5</th>\n",
              "      <td>Hopworks Urban Brewery</td>\n",
              "      <td>23</td>\n",
              "      <td>80</td>\n",
              "    </tr>\n",
              "    <tr>\n",
              "      <th>6</th>\n",
              "      <td>Stevens Point Brewery</td>\n",
              "      <td>22</td>\n",
              "      <td>131</td>\n",
              "    </tr>\n",
              "    <tr>\n",
              "      <th>7</th>\n",
              "      <td>Great Crescent Brewery</td>\n",
              "      <td>20</td>\n",
              "      <td>165</td>\n",
              "    </tr>\n",
              "    <tr>\n",
              "      <th>8</th>\n",
              "      <td>21st Amendment Brewery</td>\n",
              "      <td>20</td>\n",
              "      <td>368</td>\n",
              "    </tr>\n",
              "    <tr>\n",
              "      <th>9</th>\n",
              "      <td>SanTan Brewing Company</td>\n",
              "      <td>19</td>\n",
              "      <td>30</td>\n",
              "    </tr>\n",
              "  </tbody>\n",
              "</table>\n",
              "</div>"
            ],
            "text/plain": [
              "                         name  beers_per_brewery  brewery_id\n",
              "0              Brewery Vivant                 60          10\n",
              "1         Oskar Blues Brewery                 42         166\n",
              "2    Sun King Brewing Company                 36          25\n",
              "3  Cigar City Brewing Company                 25         141\n",
              "4         Sixpoint Craft Ales                 24          46\n",
              "5      Hopworks Urban Brewery                 23          80\n",
              "6       Stevens Point Brewery                 22         131\n",
              "7      Great Crescent Brewery                 20         165\n",
              "8      21st Amendment Brewery                 20         368\n",
              "9      SanTan Brewing Company                 19          30"
            ]
          },
          "metadata": {
            "tags": []
          },
          "execution_count": 20
        }
      ]
    },
    {
      "cell_type": "code",
      "metadata": {
        "id": "FebdZ8CwBUlz",
        "colab_type": "code",
        "colab": {
          "base_uri": "https://localhost:8080/",
          "height": 503
        },
        "outputId": "f76e569a-4f7f-4c1a-fbbe-44ed649d8c64"
      },
      "source": [
        "#plot the top breweries results\n",
        "\n",
        "top_beers_brewery = beers_per_brewery.head(10)\n",
        "top_beers_brewery.plot(kind='bar',x='name',y='beers_per_brewery', fontsize=15)"
      ],
      "execution_count": 21,
      "outputs": [
        {
          "output_type": "execute_result",
          "data": {
            "text/plain": [
              "<matplotlib.axes._subplots.AxesSubplot at 0x7f4165926080>"
            ]
          },
          "metadata": {
            "tags": []
          },
          "execution_count": 21
        },
        {
          "output_type": "display_data",
          "data": {
            "image/png": "[encoded data removed]",
            "text/plain": [
              "<Figure size 432x288 with 1 Axes>"
            ]
          },
          "metadata": {
            "tags": [],
            "needs_background": "light"
          }
        }
      ]
    },
    {
      "cell_type": "markdown",
      "metadata": {
        "id": "EP0e9YB4BVEM",
        "colab_type": "text"
      },
      "source": [
        "The query shows that the breweries that have most number of beers are Brewery Vivant, Oskar Blues Brewery, Sun King Brewery Company, Cigar City Brewery Company and Sixpoint Craft Ales."
      ]
    },
    {
      "cell_type": "markdown",
      "metadata": {
        "id": "pI0_XChepbqw",
        "colab_type": "text"
      },
      "source": [
        "###Which style is produced by most breweries?"
      ]
    },
    {
      "cell_type": "markdown",
      "metadata": {
        "id": "nKU4GlsbpvGZ",
        "colab_type": "text"
      },
      "source": [
        "\n",
        "\n",
        "```\n",
        "SELECT  style, COUNT(DISTINCT brewery_id) AS unique_breweries_per_style FROM beers\n",
        "GROUP BY style\n",
        "ORDER BY unique_breweries_per_style DESC;\n",
        "```\n"
      ]
    },
    {
      "cell_type": "code",
      "metadata": {
        "id": "GxfefaAGc6MX",
        "colab_type": "code",
        "colab": {
          "base_uri": "https://localhost:8080/",
          "height": 359
        },
        "outputId": "07c6b974-cad0-43d1-8969-e26a4edec983"
      },
      "source": [
        "unique_breweries_per_style = pd.read_csv(\"unique_breweries_per_style.csv\")\n",
        "unique_breweries_per_style.head(10)"
      ],
      "execution_count": 23,
      "outputs": [
        {
          "output_type": "execute_result",
          "data": {
            "text/html": [
              "<div>\n",
              "<style scoped>\n",
              "    .dataframe tbody tr th:only-of-type {\n",
              "        vertical-align: middle;\n",
              "    }\n",
              "\n",
              "    .dataframe tbody tr th {\n",
              "        vertical-align: top;\n",
              "    }\n",
              "\n",
              "    .dataframe thead th {\n",
              "        text-align: right;\n",
              "    }\n",
              "</style>\n",
              "<table border=\"1\" class=\"dataframe\">\n",
              "  <thead>\n",
              "    <tr style=\"text-align: right;\">\n",
              "      <th></th>\n",
              "      <th>style</th>\n",
              "      <th>unique_breweries_per_style</th>\n",
              "    </tr>\n",
              "  </thead>\n",
              "  <tbody>\n",
              "    <tr>\n",
              "      <th>0</th>\n",
              "      <td>American IPA</td>\n",
              "      <td>290</td>\n",
              "    </tr>\n",
              "    <tr>\n",
              "      <th>1</th>\n",
              "      <td>American Pale Ale (APA)</td>\n",
              "      <td>180</td>\n",
              "    </tr>\n",
              "    <tr>\n",
              "      <th>2</th>\n",
              "      <td>American Amber / Red Ale</td>\n",
              "      <td>105</td>\n",
              "    </tr>\n",
              "    <tr>\n",
              "      <th>3</th>\n",
              "      <td>American Blonde Ale</td>\n",
              "      <td>85</td>\n",
              "    </tr>\n",
              "    <tr>\n",
              "      <th>4</th>\n",
              "      <td>American Double / Imperial IPA</td>\n",
              "      <td>75</td>\n",
              "    </tr>\n",
              "    <tr>\n",
              "      <th>5</th>\n",
              "      <td>American Pale Wheat Ale</td>\n",
              "      <td>64</td>\n",
              "    </tr>\n",
              "    <tr>\n",
              "      <th>6</th>\n",
              "      <td>American Brown Ale</td>\n",
              "      <td>61</td>\n",
              "    </tr>\n",
              "    <tr>\n",
              "      <th>7</th>\n",
              "      <td>American Porter</td>\n",
              "      <td>59</td>\n",
              "    </tr>\n",
              "    <tr>\n",
              "      <th>8</th>\n",
              "      <td>Witbier</td>\n",
              "      <td>44</td>\n",
              "    </tr>\n",
              "    <tr>\n",
              "      <th>9</th>\n",
              "      <td>Fruit / Vegetable Beer</td>\n",
              "      <td>43</td>\n",
              "    </tr>\n",
              "  </tbody>\n",
              "</table>\n",
              "</div>"
            ],
            "text/plain": [
              "                            style  unique_breweries_per_style\n",
              "0                    American IPA                         290\n",
              "1         American Pale Ale (APA)                         180\n",
              "2        American Amber / Red Ale                         105\n",
              "3             American Blonde Ale                          85\n",
              "4  American Double / Imperial IPA                          75\n",
              "5         American Pale Wheat Ale                          64\n",
              "6              American Brown Ale                          61\n",
              "7                 American Porter                          59\n",
              "8                         Witbier                          44\n",
              "9          Fruit / Vegetable Beer                          43"
            ]
          },
          "metadata": {
            "tags": []
          },
          "execution_count": 23
        }
      ]
    },
    {
      "cell_type": "markdown",
      "metadata": {
        "id": "3YaBy-cSdixM",
        "colab_type": "text"
      },
      "source": [
        "The style that most breweries produce is American IPA, there are 290 of the total 558 breweries which brew this style. The second style (APA) is behind with 180 different breweries producing it."
      ]
    },
    {
      "cell_type": "code",
      "metadata": {
        "id": "5fq00We7fLxs",
        "colab_type": "code",
        "colab": {
          "base_uri": "https://localhost:8080/",
          "height": 523
        },
        "outputId": "5164c524-4729-40dc-a71c-0bbe51c633f4"
      },
      "source": [
        "#plot unique brewery per style results\n",
        "\n",
        "top_unique_breweries_per_style = unique_breweries_per_style.head(10)\n",
        "top_unique_breweries_per_style.plot(kind='bar',x='style',y='unique_breweries_per_style', fontsize=15)"
      ],
      "execution_count": 25,
      "outputs": [
        {
          "output_type": "execute_result",
          "data": {
            "text/plain": [
              "<matplotlib.axes._subplots.AxesSubplot at 0x7f416575b278>"
            ]
          },
          "metadata": {
            "tags": []
          },
          "execution_count": 25
        },
        {
          "output_type": "display_data",
          "data": {
            "image/png": "[encoded data removed]",
            "text/plain": [
              "<Figure size 432x288 with 1 Axes>"
            ]
          },
          "metadata": {
            "tags": [],
            "needs_background": "light"
          }
        }
      ]
    },
    {
      "cell_type": "markdown",
      "metadata": {
        "id": "7sILkq0lpCNc",
        "colab_type": "text"
      },
      "source": [
        "###Which states and cities have more breweries?"
      ]
    },
    {
      "cell_type": "markdown",
      "metadata": {
        "id": "uYlrX7IumsRq",
        "colab_type": "text"
      },
      "source": [
        "\n",
        "\n",
        "```\n",
        "SELECT city, count(city) AS number_breweries_per_city FROM breweries \n",
        "GROUP BY city\n",
        "ORDER BY number_breweries_per_city DESC;\n",
        "```\n",
        "\n"
      ]
    },
    {
      "cell_type": "code",
      "metadata": {
        "id": "LmAvwKqhmu3J",
        "colab_type": "code",
        "colab": {
          "base_uri": "https://localhost:8080/",
          "height": 359
        },
        "outputId": "6f6fc8b8-0a69-4f2f-9772-f5d4ec194497"
      },
      "source": [
        "breweries_per_city = pd.read_csv(\"breweries_per_city.csv\")\n",
        "breweries_per_city.head(10)"
      ],
      "execution_count": null,
      "outputs": [
        {
          "output_type": "execute_result",
          "data": {
            "text/html": [
              "<div>\n",
              "<style scoped>\n",
              "    .dataframe tbody tr th:only-of-type {\n",
              "        vertical-align: middle;\n",
              "    }\n",
              "\n",
              "    .dataframe tbody tr th {\n",
              "        vertical-align: top;\n",
              "    }\n",
              "\n",
              "    .dataframe thead th {\n",
              "        text-align: right;\n",
              "    }\n",
              "</style>\n",
              "<table border=\"1\" class=\"dataframe\">\n",
              "  <thead>\n",
              "    <tr style=\"text-align: right;\">\n",
              "      <th></th>\n",
              "      <th>city</th>\n",
              "      <th>number_breweries_per_city</th>\n",
              "    </tr>\n",
              "  </thead>\n",
              "  <tbody>\n",
              "    <tr>\n",
              "      <th>0</th>\n",
              "      <td>Portland</td>\n",
              "      <td>17</td>\n",
              "    </tr>\n",
              "    <tr>\n",
              "      <th>1</th>\n",
              "      <td>Boulder</td>\n",
              "      <td>9</td>\n",
              "    </tr>\n",
              "    <tr>\n",
              "      <th>2</th>\n",
              "      <td>Chicago</td>\n",
              "      <td>9</td>\n",
              "    </tr>\n",
              "    <tr>\n",
              "      <th>3</th>\n",
              "      <td>Seattle</td>\n",
              "      <td>9</td>\n",
              "    </tr>\n",
              "    <tr>\n",
              "      <th>4</th>\n",
              "      <td>San Diego</td>\n",
              "      <td>8</td>\n",
              "    </tr>\n",
              "    <tr>\n",
              "      <th>5</th>\n",
              "      <td>Denver</td>\n",
              "      <td>8</td>\n",
              "    </tr>\n",
              "    <tr>\n",
              "      <th>6</th>\n",
              "      <td>Austin</td>\n",
              "      <td>8</td>\n",
              "    </tr>\n",
              "    <tr>\n",
              "      <th>7</th>\n",
              "      <td>Bend</td>\n",
              "      <td>6</td>\n",
              "    </tr>\n",
              "    <tr>\n",
              "      <th>8</th>\n",
              "      <td>San Francisco</td>\n",
              "      <td>5</td>\n",
              "    </tr>\n",
              "    <tr>\n",
              "      <th>9</th>\n",
              "      <td>Indianapolis</td>\n",
              "      <td>4</td>\n",
              "    </tr>\n",
              "  </tbody>\n",
              "</table>\n",
              "</div>"
            ],
            "text/plain": [
              "            city  number_breweries_per_city\n",
              "0       Portland                         17\n",
              "1        Boulder                          9\n",
              "2        Chicago                          9\n",
              "3        Seattle                          9\n",
              "4      San Diego                          8\n",
              "5         Denver                          8\n",
              "6         Austin                          8\n",
              "7           Bend                          6\n",
              "8  San Francisco                          5\n",
              "9   Indianapolis                          4"
            ]
          },
          "metadata": {
            "tags": []
          },
          "execution_count": 11
        }
      ]
    },
    {
      "cell_type": "markdown",
      "metadata": {
        "id": "wALu9XM9nMNW",
        "colab_type": "text"
      },
      "source": [
        "Portland is the city that has more breweries, 17. It is almost twice as much as Boulder, Chicago and Seattle with 9 breweries each."
      ]
    },
    {
      "cell_type": "markdown",
      "metadata": {
        "id": "bc0yWgRqpJRt",
        "colab_type": "text"
      },
      "source": [
        "\n",
        "\n",
        "```\n",
        "SELECT state, count(state) AS number_breweries_per_state FROM breweries \n",
        "GROUP BY state\n",
        "ORDER BY number_breweries_per_state DESC;\n",
        "```\n",
        "\n"
      ]
    },
    {
      "cell_type": "code",
      "metadata": {
        "id": "bcfLklYentnN",
        "colab_type": "code",
        "colab": {
          "base_uri": "https://localhost:8080/",
          "height": 669
        },
        "outputId": "f5064040-ff4e-47e9-fc0d-b0e44544d8f5"
      },
      "source": [
        "breweries_per_state = pd.read_csv(\"breweries_per_state.csv\")\n",
        "breweries_per_state.head(20)"
      ],
      "execution_count": 48,
      "outputs": [
        {
          "output_type": "execute_result",
          "data": {
            "text/html": [
              "<div>\n",
              "<style scoped>\n",
              "    .dataframe tbody tr th:only-of-type {\n",
              "        vertical-align: middle;\n",
              "    }\n",
              "\n",
              "    .dataframe tbody tr th {\n",
              "        vertical-align: top;\n",
              "    }\n",
              "\n",
              "    .dataframe thead th {\n",
              "        text-align: right;\n",
              "    }\n",
              "</style>\n",
              "<table border=\"1\" class=\"dataframe\">\n",
              "  <thead>\n",
              "    <tr style=\"text-align: right;\">\n",
              "      <th></th>\n",
              "      <th>state</th>\n",
              "      <th>number_breweries_per_state</th>\n",
              "    </tr>\n",
              "  </thead>\n",
              "  <tbody>\n",
              "    <tr>\n",
              "      <th>0</th>\n",
              "      <td>CO</td>\n",
              "      <td>47</td>\n",
              "    </tr>\n",
              "    <tr>\n",
              "      <th>1</th>\n",
              "      <td>CA</td>\n",
              "      <td>39</td>\n",
              "    </tr>\n",
              "    <tr>\n",
              "      <th>2</th>\n",
              "      <td>MI</td>\n",
              "      <td>32</td>\n",
              "    </tr>\n",
              "    <tr>\n",
              "      <th>3</th>\n",
              "      <td>OR</td>\n",
              "      <td>29</td>\n",
              "    </tr>\n",
              "    <tr>\n",
              "      <th>4</th>\n",
              "      <td>TX</td>\n",
              "      <td>28</td>\n",
              "    </tr>\n",
              "    <tr>\n",
              "      <th>5</th>\n",
              "      <td>PA</td>\n",
              "      <td>25</td>\n",
              "    </tr>\n",
              "    <tr>\n",
              "      <th>6</th>\n",
              "      <td>MA</td>\n",
              "      <td>23</td>\n",
              "    </tr>\n",
              "    <tr>\n",
              "      <th>7</th>\n",
              "      <td>WA</td>\n",
              "      <td>23</td>\n",
              "    </tr>\n",
              "    <tr>\n",
              "      <th>8</th>\n",
              "      <td>IN</td>\n",
              "      <td>22</td>\n",
              "    </tr>\n",
              "    <tr>\n",
              "      <th>9</th>\n",
              "      <td>WI</td>\n",
              "      <td>20</td>\n",
              "    </tr>\n",
              "    <tr>\n",
              "      <th>10</th>\n",
              "      <td>NC</td>\n",
              "      <td>19</td>\n",
              "    </tr>\n",
              "    <tr>\n",
              "      <th>11</th>\n",
              "      <td>IL</td>\n",
              "      <td>18</td>\n",
              "    </tr>\n",
              "    <tr>\n",
              "      <th>12</th>\n",
              "      <td>NY</td>\n",
              "      <td>16</td>\n",
              "    </tr>\n",
              "    <tr>\n",
              "      <th>13</th>\n",
              "      <td>VA</td>\n",
              "      <td>16</td>\n",
              "    </tr>\n",
              "    <tr>\n",
              "      <th>14</th>\n",
              "      <td>OH</td>\n",
              "      <td>15</td>\n",
              "    </tr>\n",
              "    <tr>\n",
              "      <th>15</th>\n",
              "      <td>FL</td>\n",
              "      <td>15</td>\n",
              "    </tr>\n",
              "    <tr>\n",
              "      <th>16</th>\n",
              "      <td>MN</td>\n",
              "      <td>12</td>\n",
              "    </tr>\n",
              "    <tr>\n",
              "      <th>17</th>\n",
              "      <td>AZ</td>\n",
              "      <td>11</td>\n",
              "    </tr>\n",
              "    <tr>\n",
              "      <th>18</th>\n",
              "      <td>VT</td>\n",
              "      <td>10</td>\n",
              "    </tr>\n",
              "    <tr>\n",
              "      <th>19</th>\n",
              "      <td>MT</td>\n",
              "      <td>9</td>\n",
              "    </tr>\n",
              "  </tbody>\n",
              "</table>\n",
              "</div>"
            ],
            "text/plain": [
              "   state  number_breweries_per_state\n",
              "0     CO                          47\n",
              "1     CA                          39\n",
              "2     MI                          32\n",
              "3     OR                          29\n",
              "4     TX                          28\n",
              "5     PA                          25\n",
              "6     MA                          23\n",
              "7     WA                          23\n",
              "8     IN                          22\n",
              "9     WI                          20\n",
              "10    NC                          19\n",
              "11    IL                          18\n",
              "12    NY                          16\n",
              "13    VA                          16\n",
              "14    OH                          15\n",
              "15    FL                          15\n",
              "16    MN                          12\n",
              "17    AZ                          11\n",
              "18    VT                          10\n",
              "19    MT                           9"
            ]
          },
          "metadata": {
            "tags": []
          },
          "execution_count": 48
        }
      ]
    },
    {
      "cell_type": "markdown",
      "metadata": {
        "id": "6PkV50K9nyuz",
        "colab_type": "text"
      },
      "source": [
        "Colorado, California, Michigan and Oregon are the states with more breweries, respectively 47, 39, 32 and 29."
      ]
    },
    {
      "cell_type": "code",
      "metadata": {
        "id": "YsSsKe1HZyHL",
        "colab_type": "code",
        "colab": {
          "base_uri": "https://localhost:8080/",
          "height": 204
        },
        "outputId": "d26bb9ea-a46c-4d47-d27a-690c8557b634"
      },
      "source": [
        "#import csv with coordinates from each state\n",
        "\n",
        "states = pd.read_csv(\"states.csv\")\n",
        "states.head()"
      ],
      "execution_count": 27,
      "outputs": [
        {
          "output_type": "execute_result",
          "data": {
            "text/html": [
              "<div>\n",
              "<style scoped>\n",
              "    .dataframe tbody tr th:only-of-type {\n",
              "        vertical-align: middle;\n",
              "    }\n",
              "\n",
              "    .dataframe tbody tr th {\n",
              "        vertical-align: top;\n",
              "    }\n",
              "\n",
              "    .dataframe thead th {\n",
              "        text-align: right;\n",
              "    }\n",
              "</style>\n",
              "<table border=\"1\" class=\"dataframe\">\n",
              "  <thead>\n",
              "    <tr style=\"text-align: right;\">\n",
              "      <th></th>\n",
              "      <th>state</th>\n",
              "      <th>latitude</th>\n",
              "      <th>longitude</th>\n",
              "      <th>name</th>\n",
              "      <th>number_breweries_per_state</th>\n",
              "    </tr>\n",
              "  </thead>\n",
              "  <tbody>\n",
              "    <tr>\n",
              "      <th>0</th>\n",
              "      <td>AK</td>\n",
              "      <td>63.588753</td>\n",
              "      <td>-154.493062</td>\n",
              "      <td>Alaska</td>\n",
              "      <td>7</td>\n",
              "    </tr>\n",
              "    <tr>\n",
              "      <th>1</th>\n",
              "      <td>AL</td>\n",
              "      <td>32.318231</td>\n",
              "      <td>-86.902298</td>\n",
              "      <td>Alabama</td>\n",
              "      <td>3</td>\n",
              "    </tr>\n",
              "    <tr>\n",
              "      <th>2</th>\n",
              "      <td>AR</td>\n",
              "      <td>35.201050</td>\n",
              "      <td>-91.831833</td>\n",
              "      <td>Arkansas</td>\n",
              "      <td>2</td>\n",
              "    </tr>\n",
              "    <tr>\n",
              "      <th>3</th>\n",
              "      <td>AZ</td>\n",
              "      <td>34.048928</td>\n",
              "      <td>-111.093731</td>\n",
              "      <td>Arizona</td>\n",
              "      <td>11</td>\n",
              "    </tr>\n",
              "    <tr>\n",
              "      <th>4</th>\n",
              "      <td>CA</td>\n",
              "      <td>36.778261</td>\n",
              "      <td>-119.417932</td>\n",
              "      <td>California</td>\n",
              "      <td>39</td>\n",
              "    </tr>\n",
              "  </tbody>\n",
              "</table>\n",
              "</div>"
            ],
            "text/plain": [
              "  state   latitude   longitude        name  number_breweries_per_state\n",
              "0    AK  63.588753 -154.493062      Alaska                           7\n",
              "1    AL  32.318231  -86.902298     Alabama                           3\n",
              "2    AR  35.201050  -91.831833    Arkansas                           2\n",
              "3    AZ  34.048928 -111.093731     Arizona                          11\n",
              "4    CA  36.778261 -119.417932  California                          39"
            ]
          },
          "metadata": {
            "tags": []
          },
          "execution_count": 27
        }
      ]
    },
    {
      "cell_type": "code",
      "metadata": {
        "id": "-IMpXCI6duUa",
        "colab_type": "code",
        "colab": {}
      },
      "source": [
        "#install and import geopandas\n",
        "\n",
        "!pip install geopandas"
      ],
      "execution_count": null,
      "outputs": []
    },
    {
      "cell_type": "code",
      "metadata": {
        "id": "5RYKUzbsjGTw",
        "colab_type": "code",
        "colab": {}
      },
      "source": [
        "import geopandas as gpd"
      ],
      "execution_count": 39,
      "outputs": []
    },
    {
      "cell_type": "code",
      "metadata": {
        "id": "fgBVX5zziXUr",
        "colab_type": "code",
        "colab": {}
      },
      "source": [
        "#define dataframe with states locations and number of breweries\n",
        "\n",
        "df = pd.read_csv(\"states.csv\")"
      ],
      "execution_count": 30,
      "outputs": []
    },
    {
      "cell_type": "code",
      "metadata": {
        "id": "5nmqL8R5jBKO",
        "colab_type": "code",
        "colab": {
          "base_uri": "https://localhost:8080/",
          "height": 204
        },
        "outputId": "583c2eb8-115a-424f-9dbc-90ab9064fa1c"
      },
      "source": [
        "df.head()"
      ],
      "execution_count": 31,
      "outputs": [
        {
          "output_type": "execute_result",
          "data": {
            "text/html": [
              "<div>\n",
              "<style scoped>\n",
              "    .dataframe tbody tr th:only-of-type {\n",
              "        vertical-align: middle;\n",
              "    }\n",
              "\n",
              "    .dataframe tbody tr th {\n",
              "        vertical-align: top;\n",
              "    }\n",
              "\n",
              "    .dataframe thead th {\n",
              "        text-align: right;\n",
              "    }\n",
              "</style>\n",
              "<table border=\"1\" class=\"dataframe\">\n",
              "  <thead>\n",
              "    <tr style=\"text-align: right;\">\n",
              "      <th></th>\n",
              "      <th>state</th>\n",
              "      <th>latitude</th>\n",
              "      <th>longitude</th>\n",
              "      <th>name</th>\n",
              "      <th>number_breweries_per_state</th>\n",
              "    </tr>\n",
              "  </thead>\n",
              "  <tbody>\n",
              "    <tr>\n",
              "      <th>0</th>\n",
              "      <td>AK</td>\n",
              "      <td>63.588753</td>\n",
              "      <td>-154.493062</td>\n",
              "      <td>Alaska</td>\n",
              "      <td>7</td>\n",
              "    </tr>\n",
              "    <tr>\n",
              "      <th>1</th>\n",
              "      <td>AL</td>\n",
              "      <td>32.318231</td>\n",
              "      <td>-86.902298</td>\n",
              "      <td>Alabama</td>\n",
              "      <td>3</td>\n",
              "    </tr>\n",
              "    <tr>\n",
              "      <th>2</th>\n",
              "      <td>AR</td>\n",
              "      <td>35.201050</td>\n",
              "      <td>-91.831833</td>\n",
              "      <td>Arkansas</td>\n",
              "      <td>2</td>\n",
              "    </tr>\n",
              "    <tr>\n",
              "      <th>3</th>\n",
              "      <td>AZ</td>\n",
              "      <td>34.048928</td>\n",
              "      <td>-111.093731</td>\n",
              "      <td>Arizona</td>\n",
              "      <td>11</td>\n",
              "    </tr>\n",
              "    <tr>\n",
              "      <th>4</th>\n",
              "      <td>CA</td>\n",
              "      <td>36.778261</td>\n",
              "      <td>-119.417932</td>\n",
              "      <td>California</td>\n",
              "      <td>39</td>\n",
              "    </tr>\n",
              "  </tbody>\n",
              "</table>\n",
              "</div>"
            ],
            "text/plain": [
              "  state   latitude   longitude        name  number_breweries_per_state\n",
              "0    AK  63.588753 -154.493062      Alaska                           7\n",
              "1    AL  32.318231  -86.902298     Alabama                           3\n",
              "2    AR  35.201050  -91.831833    Arkansas                           2\n",
              "3    AZ  34.048928 -111.093731     Arizona                          11\n",
              "4    CA  36.778261 -119.417932  California                          39"
            ]
          },
          "metadata": {
            "tags": []
          },
          "execution_count": 31
        }
      ]
    },
    {
      "cell_type": "code",
      "metadata": {
        "id": "a3ypwDDRi6WG",
        "colab_type": "code",
        "colab": {
          "base_uri": "https://localhost:8080/",
          "height": 204
        },
        "outputId": "233b8b1d-17a4-4f18-c5c1-b2fcbc7c387b"
      },
      "source": [
        "#create geodataframe to plot using geopandas\n",
        "\n",
        "gdf = gpd.GeoDataFrame(df, geometry=gpd.points_from_xy(df.longitude, df.latitude))\n",
        "gdf.head()"
      ],
      "execution_count": 32,
      "outputs": [
        {
          "output_type": "execute_result",
          "data": {
            "text/html": [
              "<div>\n",
              "<style scoped>\n",
              "    .dataframe tbody tr th:only-of-type {\n",
              "        vertical-align: middle;\n",
              "    }\n",
              "\n",
              "    .dataframe tbody tr th {\n",
              "        vertical-align: top;\n",
              "    }\n",
              "\n",
              "    .dataframe thead th {\n",
              "        text-align: right;\n",
              "    }\n",
              "</style>\n",
              "<table border=\"1\" class=\"dataframe\">\n",
              "  <thead>\n",
              "    <tr style=\"text-align: right;\">\n",
              "      <th></th>\n",
              "      <th>state</th>\n",
              "      <th>latitude</th>\n",
              "      <th>longitude</th>\n",
              "      <th>name</th>\n",
              "      <th>number_breweries_per_state</th>\n",
              "      <th>geometry</th>\n",
              "    </tr>\n",
              "  </thead>\n",
              "  <tbody>\n",
              "    <tr>\n",
              "      <th>0</th>\n",
              "      <td>AK</td>\n",
              "      <td>63.588753</td>\n",
              "      <td>-154.493062</td>\n",
              "      <td>Alaska</td>\n",
              "      <td>7</td>\n",
              "      <td>POINT (-154.49306 63.58875)</td>\n",
              "    </tr>\n",
              "    <tr>\n",
              "      <th>1</th>\n",
              "      <td>AL</td>\n",
              "      <td>32.318231</td>\n",
              "      <td>-86.902298</td>\n",
              "      <td>Alabama</td>\n",
              "      <td>3</td>\n",
              "      <td>POINT (-86.90230 32.31823)</td>\n",
              "    </tr>\n",
              "    <tr>\n",
              "      <th>2</th>\n",
              "      <td>AR</td>\n",
              "      <td>35.201050</td>\n",
              "      <td>-91.831833</td>\n",
              "      <td>Arkansas</td>\n",
              "      <td>2</td>\n",
              "      <td>POINT (-91.83183 35.20105)</td>\n",
              "    </tr>\n",
              "    <tr>\n",
              "      <th>3</th>\n",
              "      <td>AZ</td>\n",
              "      <td>34.048928</td>\n",
              "      <td>-111.093731</td>\n",
              "      <td>Arizona</td>\n",
              "      <td>11</td>\n",
              "      <td>POINT (-111.09373 34.04893)</td>\n",
              "    </tr>\n",
              "    <tr>\n",
              "      <th>4</th>\n",
              "      <td>CA</td>\n",
              "      <td>36.778261</td>\n",
              "      <td>-119.417932</td>\n",
              "      <td>California</td>\n",
              "      <td>39</td>\n",
              "      <td>POINT (-119.41793 36.77826)</td>\n",
              "    </tr>\n",
              "  </tbody>\n",
              "</table>\n",
              "</div>"
            ],
            "text/plain": [
              "  state   latitude  ...  number_breweries_per_state                     geometry\n",
              "0    AK  63.588753  ...                           7  POINT (-154.49306 63.58875)\n",
              "1    AL  32.318231  ...                           3   POINT (-86.90230 32.31823)\n",
              "2    AR  35.201050  ...                           2   POINT (-91.83183 35.20105)\n",
              "3    AZ  34.048928  ...                          11  POINT (-111.09373 34.04893)\n",
              "4    CA  36.778261  ...                          39  POINT (-119.41793 36.77826)\n",
              "\n",
              "[5 rows x 6 columns]"
            ]
          },
          "metadata": {
            "tags": []
          },
          "execution_count": 32
        }
      ]
    },
    {
      "cell_type": "code",
      "metadata": {
        "id": "lPT0eADJk-vf",
        "colab_type": "code",
        "colab": {
          "base_uri": "https://localhost:8080/",
          "height": 466
        },
        "outputId": "f6ec3be9-7b5a-4810-8782-61352cba1061"
      },
      "source": [
        "#mapping the results of number of breweries by state\n",
        "\n",
        "world = gpd.read_file(gpd.datasets.get_path('naturalearth_lowres'))\n",
        "\n",
        "gdf['size'] = gdf['number_breweries_per_state']*10\n",
        "ax = world[world.name == 'United States of America'].plot(color='grey', edgecolor='black', figsize=(8,8))\n",
        "gdf.plot(ax=ax, column=\"number_breweries_per_state\", cmap=\"Blues\",edgecolor=\"grey\", \n",
        "         linewidth=0.4, legend=True,legend_kwds={'label': \"Breweries by State\", 'orientation': \"vertical\"},markersize='size')\n",
        "ax.axis(\"off\")\n",
        "plt.axis('equal')\n",
        "plt.show()"
      ],
      "execution_count": 46,
      "outputs": [
        {
          "output_type": "display_data",
          "data": {
            "image/png": "[encoded data removed]",
            "text/plain": [
              "<Figure size 576x576 with 2 Axes>"
            ]
          },
          "metadata": {
            "tags": [],
            "needs_background": "light"
          }
        }
      ]
    },
    {
      "cell_type": "markdown",
      "metadata": {
        "id": "P27zXhwY3qXs",
        "colab_type": "text"
      },
      "source": [
        "It is clear that most breweries are located on the West Coast, Northeast, Michigan, Texas and Colorado."
      ]
    },
    {
      "cell_type": "markdown",
      "metadata": {
        "id": "d_tv1HCepbZQ",
        "colab_type": "text"
      },
      "source": [
        "###Which is the most produced style in each state?"
      ]
    },
    {
      "cell_type": "markdown",
      "metadata": {
        "id": "2fcmqNWjUTo-",
        "colab_type": "text"
      },
      "source": [
        "Create a table joining both tables with state initials, styles names and number of different beers of each style in the state.\n",
        "\n",
        "```\n",
        "CREATE TABLE popular_beers_states\n",
        "  AS SELECT B.state AS state_initials, a.style AS style_name , \n",
        "  COUNT(a.id) AS number_each_style FROM beers A\n",
        "\tINNER JOIN breweries B\n",
        "\tON A.brewery_id = B.brewery_id\n",
        "\tGROUP BY b.state, a.style\n",
        "\tORDER BY  b.state, number_each_style DESC;\n",
        "```\n",
        "\n",
        "Then, query this new table for the most produced style in each state.\n",
        "\n",
        "\n",
        "```\n",
        "SELECT A.state_initials, A.style_name, A.number_each_style\n",
        "FROM popular_beers_states A\n",
        "INNER JOIN (\n",
        "    SELECT state_initials, MAX(number_each_style), number_each_style\n",
        "    FROM popular_beers_states\n",
        "    GROUP BY state_initials\n",
        ") B ON A.state_initials = B.state_initials AND \n",
        "A.number_each_style = B.number_each_style;\n",
        "```"
      ]
    },
    {
      "cell_type": "code",
      "metadata": {
        "id": "NoX7l0grUMUA",
        "colab_type": "code",
        "colab": {
          "base_uri": "https://localhost:8080/",
          "height": 359
        },
        "outputId": "665126b9-013f-4642-e5c5-f15739d05879"
      },
      "source": [
        "most_produced = pd.read_csv(\"most_produced_by_state.csv\")\n",
        "most_produced.head(10)"
      ],
      "execution_count": 54,
      "outputs": [
        {
          "output_type": "execute_result",
          "data": {
            "text/html": [
              "<div>\n",
              "<style scoped>\n",
              "    .dataframe tbody tr th:only-of-type {\n",
              "        vertical-align: middle;\n",
              "    }\n",
              "\n",
              "    .dataframe tbody tr th {\n",
              "        vertical-align: top;\n",
              "    }\n",
              "\n",
              "    .dataframe thead th {\n",
              "        text-align: right;\n",
              "    }\n",
              "</style>\n",
              "<table border=\"1\" class=\"dataframe\">\n",
              "  <thead>\n",
              "    <tr style=\"text-align: right;\">\n",
              "      <th></th>\n",
              "      <th>state_initials</th>\n",
              "      <th>style_name</th>\n",
              "      <th>number_each_style</th>\n",
              "    </tr>\n",
              "  </thead>\n",
              "  <tbody>\n",
              "    <tr>\n",
              "      <th>0</th>\n",
              "      <td>AK</td>\n",
              "      <td>American IPA</td>\n",
              "      <td>7</td>\n",
              "    </tr>\n",
              "    <tr>\n",
              "      <th>1</th>\n",
              "      <td>AL</td>\n",
              "      <td>American IPA</td>\n",
              "      <td>2</td>\n",
              "    </tr>\n",
              "    <tr>\n",
              "      <th>2</th>\n",
              "      <td>AL</td>\n",
              "      <td>American Pale Ale (APA)</td>\n",
              "      <td>2</td>\n",
              "    </tr>\n",
              "    <tr>\n",
              "      <th>3</th>\n",
              "      <td>AR</td>\n",
              "      <td>American Pilsner</td>\n",
              "      <td>1</td>\n",
              "    </tr>\n",
              "    <tr>\n",
              "      <th>4</th>\n",
              "      <td>AR</td>\n",
              "      <td>American Amber / Red Ale</td>\n",
              "      <td>1</td>\n",
              "    </tr>\n",
              "    <tr>\n",
              "      <th>5</th>\n",
              "      <td>AR</td>\n",
              "      <td>Oatmeal Stout</td>\n",
              "      <td>1</td>\n",
              "    </tr>\n",
              "    <tr>\n",
              "      <th>6</th>\n",
              "      <td>AR</td>\n",
              "      <td>Extra Special / Strong Bitter (ESB)</td>\n",
              "      <td>1</td>\n",
              "    </tr>\n",
              "    <tr>\n",
              "      <th>7</th>\n",
              "      <td>AR</td>\n",
              "      <td>American Pale Ale (APA)</td>\n",
              "      <td>1</td>\n",
              "    </tr>\n",
              "    <tr>\n",
              "      <th>8</th>\n",
              "      <td>AZ</td>\n",
              "      <td>American IPA</td>\n",
              "      <td>7</td>\n",
              "    </tr>\n",
              "    <tr>\n",
              "      <th>9</th>\n",
              "      <td>CA</td>\n",
              "      <td>American IPA</td>\n",
              "      <td>45</td>\n",
              "    </tr>\n",
              "  </tbody>\n",
              "</table>\n",
              "</div>"
            ],
            "text/plain": [
              "  state_initials                           style_name  number_each_style\n",
              "0             AK                         American IPA                  7\n",
              "1             AL                         American IPA                  2\n",
              "2             AL              American Pale Ale (APA)                  2\n",
              "3             AR                     American Pilsner                  1\n",
              "4             AR             American Amber / Red Ale                  1\n",
              "5             AR                        Oatmeal Stout                  1\n",
              "6             AR  Extra Special / Strong Bitter (ESB)                  1\n",
              "7             AR              American Pale Ale (APA)                  1\n",
              "8             AZ                         American IPA                  7\n",
              "9             CA                         American IPA                 45"
            ]
          },
          "metadata": {
            "tags": []
          },
          "execution_count": 54
        }
      ]
    },
    {
      "cell_type": "markdown",
      "metadata": {
        "id": "ZFAhjkV_df99",
        "colab_type": "text"
      },
      "source": [
        "It is possible to notice that some states have more than one beer style as the most produced. As these states have a lower number of breweries, the analysis will be carried with the states with more than 5 diverse beers of the most popular style."
      ]
    },
    {
      "cell_type": "code",
      "metadata": {
        "id": "e-F0rHrydcia",
        "colab_type": "code",
        "colab": {
          "base_uri": "https://localhost:8080/",
          "height": 793
        },
        "outputId": "f265688d-6f0e-4eb5-ac42-6b950eee13ef"
      },
      "source": [
        "#show the list of the states with more the 5 diverse beers of the most popular style\n",
        "\n",
        "df = most_produced.copy()\n",
        "most_produced_5 = df[df['number_each_style'] > 5]\n",
        "most_produced_5 = most_produced_5.sort_values('number_each_style', ascending=False)\n",
        "most_produced_5"
      ],
      "execution_count": 62,
      "outputs": [
        {
          "output_type": "execute_result",
          "data": {
            "text/html": [
              "<div>\n",
              "<style scoped>\n",
              "    .dataframe tbody tr th:only-of-type {\n",
              "        vertical-align: middle;\n",
              "    }\n",
              "\n",
              "    .dataframe tbody tr th {\n",
              "        vertical-align: top;\n",
              "    }\n",
              "\n",
              "    .dataframe thead th {\n",
              "        text-align: right;\n",
              "    }\n",
              "</style>\n",
              "<table border=\"1\" class=\"dataframe\">\n",
              "  <thead>\n",
              "    <tr style=\"text-align: right;\">\n",
              "      <th></th>\n",
              "      <th>state_initials</th>\n",
              "      <th>style_name</th>\n",
              "      <th>number_each_style</th>\n",
              "    </tr>\n",
              "  </thead>\n",
              "  <tbody>\n",
              "    <tr>\n",
              "      <th>9</th>\n",
              "      <td>CA</td>\n",
              "      <td>American IPA</td>\n",
              "      <td>45</td>\n",
              "    </tr>\n",
              "    <tr>\n",
              "      <th>10</th>\n",
              "      <td>CO</td>\n",
              "      <td>American Pale Ale (APA)</td>\n",
              "      <td>39</td>\n",
              "    </tr>\n",
              "    <tr>\n",
              "      <th>36</th>\n",
              "      <td>IN</td>\n",
              "      <td>American IPA</td>\n",
              "      <td>26</td>\n",
              "    </tr>\n",
              "    <tr>\n",
              "      <th>69</th>\n",
              "      <td>OR</td>\n",
              "      <td>American IPA</td>\n",
              "      <td>24</td>\n",
              "    </tr>\n",
              "    <tr>\n",
              "      <th>89</th>\n",
              "      <td>WA</td>\n",
              "      <td>American IPA</td>\n",
              "      <td>21</td>\n",
              "    </tr>\n",
              "    <tr>\n",
              "      <th>48</th>\n",
              "      <td>MI</td>\n",
              "      <td>American IPA</td>\n",
              "      <td>20</td>\n",
              "    </tr>\n",
              "    <tr>\n",
              "      <th>43</th>\n",
              "      <td>MA</td>\n",
              "      <td>American IPA</td>\n",
              "      <td>19</td>\n",
              "    </tr>\n",
              "    <tr>\n",
              "      <th>23</th>\n",
              "      <td>FL</td>\n",
              "      <td>American IPA</td>\n",
              "      <td>19</td>\n",
              "    </tr>\n",
              "    <tr>\n",
              "      <th>70</th>\n",
              "      <td>PA</td>\n",
              "      <td>American IPA</td>\n",
              "      <td>18</td>\n",
              "    </tr>\n",
              "    <tr>\n",
              "      <th>35</th>\n",
              "      <td>IL</td>\n",
              "      <td>American Pale Ale (APA)</td>\n",
              "      <td>16</td>\n",
              "    </tr>\n",
              "    <tr>\n",
              "      <th>84</th>\n",
              "      <td>TX</td>\n",
              "      <td>American IPA</td>\n",
              "      <td>12</td>\n",
              "    </tr>\n",
              "    <tr>\n",
              "      <th>49</th>\n",
              "      <td>MN</td>\n",
              "      <td>American IPA</td>\n",
              "      <td>11</td>\n",
              "    </tr>\n",
              "    <tr>\n",
              "      <th>65</th>\n",
              "      <td>NY</td>\n",
              "      <td>American IPA</td>\n",
              "      <td>11</td>\n",
              "    </tr>\n",
              "    <tr>\n",
              "      <th>87</th>\n",
              "      <td>VA</td>\n",
              "      <td>American IPA</td>\n",
              "      <td>10</td>\n",
              "    </tr>\n",
              "    <tr>\n",
              "      <th>90</th>\n",
              "      <td>WI</td>\n",
              "      <td>American Adjunct Lager</td>\n",
              "      <td>10</td>\n",
              "    </tr>\n",
              "    <tr>\n",
              "      <th>50</th>\n",
              "      <td>MO</td>\n",
              "      <td>American IPA</td>\n",
              "      <td>9</td>\n",
              "    </tr>\n",
              "    <tr>\n",
              "      <th>55</th>\n",
              "      <td>NC</td>\n",
              "      <td>American Pale Ale (APA)</td>\n",
              "      <td>9</td>\n",
              "    </tr>\n",
              "    <tr>\n",
              "      <th>56</th>\n",
              "      <td>NC</td>\n",
              "      <td>American IPA</td>\n",
              "      <td>9</td>\n",
              "    </tr>\n",
              "    <tr>\n",
              "      <th>66</th>\n",
              "      <td>OH</td>\n",
              "      <td>American IPA</td>\n",
              "      <td>9</td>\n",
              "    </tr>\n",
              "    <tr>\n",
              "      <th>54</th>\n",
              "      <td>MT</td>\n",
              "      <td>American IPA</td>\n",
              "      <td>8</td>\n",
              "    </tr>\n",
              "    <tr>\n",
              "      <th>8</th>\n",
              "      <td>AZ</td>\n",
              "      <td>American IPA</td>\n",
              "      <td>7</td>\n",
              "    </tr>\n",
              "    <tr>\n",
              "      <th>0</th>\n",
              "      <td>AK</td>\n",
              "      <td>American IPA</td>\n",
              "      <td>7</td>\n",
              "    </tr>\n",
              "    <tr>\n",
              "      <th>88</th>\n",
              "      <td>VT</td>\n",
              "      <td>American Double / Imperial IPA</td>\n",
              "      <td>6</td>\n",
              "    </tr>\n",
              "    <tr>\n",
              "      <th>34</th>\n",
              "      <td>ID</td>\n",
              "      <td>American IPA</td>\n",
              "      <td>6</td>\n",
              "    </tr>\n",
              "  </tbody>\n",
              "</table>\n",
              "</div>"
            ],
            "text/plain": [
              "   state_initials                      style_name  number_each_style\n",
              "9              CA                    American IPA                 45\n",
              "10             CO         American Pale Ale (APA)                 39\n",
              "36             IN                    American IPA                 26\n",
              "69             OR                    American IPA                 24\n",
              "89             WA                    American IPA                 21\n",
              "48             MI                    American IPA                 20\n",
              "43             MA                    American IPA                 19\n",
              "23             FL                    American IPA                 19\n",
              "70             PA                    American IPA                 18\n",
              "35             IL         American Pale Ale (APA)                 16\n",
              "84             TX                    American IPA                 12\n",
              "49             MN                    American IPA                 11\n",
              "65             NY                    American IPA                 11\n",
              "87             VA                    American IPA                 10\n",
              "90             WI          American Adjunct Lager                 10\n",
              "50             MO                    American IPA                  9\n",
              "55             NC         American Pale Ale (APA)                  9\n",
              "56             NC                    American IPA                  9\n",
              "66             OH                    American IPA                  9\n",
              "54             MT                    American IPA                  8\n",
              "8              AZ                    American IPA                  7\n",
              "0              AK                    American IPA                  7\n",
              "88             VT  American Double / Imperial IPA                  6\n",
              "34             ID                    American IPA                  6"
            ]
          },
          "metadata": {
            "tags": []
          },
          "execution_count": 62
        }
      ]
    },
    {
      "cell_type": "markdown",
      "metadata": {
        "id": "rovnJquXQOZP",
        "colab_type": "text"
      },
      "source": [
        "It is noticeable that most states have American Ales as their most popular style, except in Wisconsin, which the most produced style is American Adjunct Lager."
      ]
    },
    {
      "cell_type": "markdown",
      "metadata": {
        "id": "7YPI58VATo8x",
        "colab_type": "text"
      },
      "source": [
        "#**Conclusion**"
      ]
    },
    {
      "cell_type": "markdown",
      "metadata": {
        "id": "fX6yeS49T0Wa",
        "colab_type": "text"
      },
      "source": [
        "This dataframe was useful to practice and use tools in SQL and Python. SQL comes in handy to query the data, organise results and visualise information. Python is a strong tool to plot and show results.\n",
        "\n",
        "Craft beer market has been growing around the globe and it can become a interesting source of income for many small and amateur breweries. It is important to understand the market near your business, client's preferences and how the competition can affect your enterprise. \n",
        "\n",
        "The American market has many other players in states such as Colorado, California, Michigan and Oregon and the competition could become hard to start a new craft beer brand. Most of the breweries produce American style Ales (IPA, APA Double IPA). Perhaps brewing other styles of craft beers can a potential move to differentiate from other micro breweries. \n",
        "\n",
        "A further study should be carried to understand the market in such states and how can a new brewery can stand from competition, mainly by understanding the probable clients' preferences and demands."
      ]
    }
  ]
}